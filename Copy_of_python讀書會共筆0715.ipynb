{
  "nbformat": 4,
  "nbformat_minor": 0,
  "metadata": {
    "colab": {
      "name": "Copy of python讀書會共筆0715.ipynb",
      "provenance": [],
      "collapsed_sections": [],
      "toc_visible": true,
      "include_colab_link": true
    },
    "kernelspec": {
      "display_name": "Python 3",
      "language": "python",
      "name": "python3"
    },
    "language_info": {
      "codemirror_mode": {
        "name": "ipython",
        "version": 3
      },
      "file_extension": ".py",
      "mimetype": "text/x-python",
      "name": "python",
      "nbconvert_exporter": "python",
      "pygments_lexer": "ipython3",
      "version": "3.7.6"
    }
  },
  "cells": [
    {
      "cell_type": "markdown",
      "metadata": {
        "id": "view-in-github",
        "colab_type": "text"
      },
      "source": [
        "<a href=\"https://colab.research.google.com/github/yamaallen/Dashborad_with_multipleplots/blob/master/Copy_of_python%E8%AE%80%E6%9B%B8%E6%9C%83%E5%85%B1%E7%AD%860715.ipynb\" target=\"_parent\"><img src=\"https://colab.research.google.com/assets/colab-badge.svg\" alt=\"Open In Colab\"/></a>"
      ]
    },
    {
      "cell_type": "markdown",
      "metadata": {
        "id": "b_I7tH0Vv7Gb"
      },
      "source": [
        "# python讀書會\n",
        "\n"
      ]
    },
    {
      "cell_type": "markdown",
      "metadata": {
        "id": "9oDMfEb3OQeW"
      },
      "source": [
        "## 0715 網路爬蟲 自動爬影片評分"
      ]
    },
    {
      "cell_type": "code",
      "metadata": {
        "id": "j2S3b-RGvEq-",
        "colab": {
          "base_uri": "https://localhost:8080/",
          "height": 1000
        },
        "outputId": "c4b069db-9db5-4906-d864-bbaeabbce739"
      },
      "source": [
        "!pip install requests\n",
        "!pip install lxml\n",
        "!pip install selenium"
      ],
      "execution_count": 2,
      "outputs": [
        {
          "output_type": "stream",
          "name": "stdout",
          "text": [
            "Looking in indexes: https://pypi.org/simple, https://us-python.pkg.dev/colab-wheels/public/simple/\n",
            "Requirement already satisfied: requests in /usr/local/lib/python3.7/dist-packages (2.23.0)\n",
            "Requirement already satisfied: idna<3,>=2.5 in /usr/local/lib/python3.7/dist-packages (from requests) (2.10)\n",
            "Requirement already satisfied: urllib3!=1.25.0,!=1.25.1,<1.26,>=1.21.1 in /usr/local/lib/python3.7/dist-packages (from requests) (1.24.3)\n",
            "Requirement already satisfied: chardet<4,>=3.0.2 in /usr/local/lib/python3.7/dist-packages (from requests) (3.0.4)\n",
            "Requirement already satisfied: certifi>=2017.4.17 in /usr/local/lib/python3.7/dist-packages (from requests) (2022.6.15)\n",
            "Looking in indexes: https://pypi.org/simple, https://us-python.pkg.dev/colab-wheels/public/simple/\n",
            "Requirement already satisfied: lxml in /usr/local/lib/python3.7/dist-packages (4.9.1)\n",
            "Looking in indexes: https://pypi.org/simple, https://us-python.pkg.dev/colab-wheels/public/simple/\n",
            "Collecting selenium\n",
            "  Downloading selenium-4.4.0-py3-none-any.whl (985 kB)\n",
            "\u001b[K     |████████████████████████████████| 985 kB 4.2 MB/s \n",
            "\u001b[?25hCollecting urllib3[secure,socks]~=1.26\n",
            "  Downloading urllib3-1.26.11-py2.py3-none-any.whl (139 kB)\n",
            "\u001b[K     |████████████████████████████████| 139 kB 37.8 MB/s \n",
            "\u001b[?25hCollecting trio-websocket~=0.9\n",
            "  Downloading trio_websocket-0.9.2-py3-none-any.whl (16 kB)\n",
            "Collecting trio~=0.17\n",
            "  Downloading trio-0.21.0-py3-none-any.whl (358 kB)\n",
            "\u001b[K     |████████████████████████████████| 358 kB 53.9 MB/s \n",
            "\u001b[?25hCollecting outcome\n",
            "  Downloading outcome-1.2.0-py2.py3-none-any.whl (9.7 kB)\n",
            "Collecting sniffio\n",
            "  Downloading sniffio-1.2.0-py3-none-any.whl (10 kB)\n",
            "Requirement already satisfied: idna in /usr/local/lib/python3.7/dist-packages (from trio~=0.17->selenium) (2.10)\n",
            "Collecting async-generator>=1.9\n",
            "  Downloading async_generator-1.10-py3-none-any.whl (18 kB)\n",
            "Requirement already satisfied: sortedcontainers in /usr/local/lib/python3.7/dist-packages (from trio~=0.17->selenium) (2.4.0)\n",
            "Requirement already satisfied: attrs>=19.2.0 in /usr/local/lib/python3.7/dist-packages (from trio~=0.17->selenium) (22.1.0)\n",
            "Collecting wsproto>=0.14\n",
            "  Downloading wsproto-1.1.0-py3-none-any.whl (24 kB)\n",
            "Requirement already satisfied: PySocks!=1.5.7,<2.0,>=1.5.6 in /usr/local/lib/python3.7/dist-packages (from urllib3[secure,socks]~=1.26->selenium) (1.7.1)\n",
            "Requirement already satisfied: certifi in /usr/local/lib/python3.7/dist-packages (from urllib3[secure,socks]~=1.26->selenium) (2022.6.15)\n",
            "Collecting pyOpenSSL>=0.14\n",
            "  Downloading pyOpenSSL-22.0.0-py2.py3-none-any.whl (55 kB)\n",
            "\u001b[K     |████████████████████████████████| 55 kB 4.5 MB/s \n",
            "\u001b[?25hCollecting cryptography>=1.3.4\n",
            "  Downloading cryptography-37.0.4-cp36-abi3-manylinux_2_24_x86_64.whl (4.1 MB)\n",
            "\u001b[K     |████████████████████████████████| 4.1 MB 48.3 MB/s \n",
            "\u001b[?25hRequirement already satisfied: cffi>=1.12 in /usr/local/lib/python3.7/dist-packages (from cryptography>=1.3.4->urllib3[secure,socks]~=1.26->selenium) (1.15.1)\n",
            "Requirement already satisfied: pycparser in /usr/local/lib/python3.7/dist-packages (from cffi>=1.12->cryptography>=1.3.4->urllib3[secure,socks]~=1.26->selenium) (2.21)\n",
            "Collecting h11<1,>=0.9.0\n",
            "  Downloading h11-0.13.0-py3-none-any.whl (58 kB)\n",
            "\u001b[K     |████████████████████████████████| 58 kB 6.5 MB/s \n",
            "\u001b[?25hRequirement already satisfied: typing-extensions in /usr/local/lib/python3.7/dist-packages (from h11<1,>=0.9.0->wsproto>=0.14->trio-websocket~=0.9->selenium) (4.1.1)\n",
            "Installing collected packages: sniffio, outcome, h11, cryptography, async-generator, wsproto, urllib3, trio, pyOpenSSL, trio-websocket, selenium\n",
            "  Attempting uninstall: urllib3\n",
            "    Found existing installation: urllib3 1.24.3\n",
            "    Uninstalling urllib3-1.24.3:\n",
            "      Successfully uninstalled urllib3-1.24.3\n",
            "\u001b[31mERROR: pip's dependency resolver does not currently take into account all the packages that are installed. This behaviour is the source of the following dependency conflicts.\n",
            "requests 2.23.0 requires urllib3!=1.25.0,!=1.25.1,<1.26,>=1.21.1, but you have urllib3 1.26.11 which is incompatible.\u001b[0m\n",
            "Successfully installed async-generator-1.10 cryptography-37.0.4 h11-0.13.0 outcome-1.2.0 pyOpenSSL-22.0.0 selenium-4.4.0 sniffio-1.2.0 trio-0.21.0 trio-websocket-0.9.2 urllib3-1.26.11 wsproto-1.1.0\n"
          ]
        },
        {
          "output_type": "display_data",
          "data": {
            "application/vnd.colab-display-data+json": {
              "pip_warning": {
                "packages": [
                  "urllib3"
                ]
              }
            }
          },
          "metadata": {}
        }
      ]
    },
    {
      "cell_type": "code",
      "metadata": {
        "id": "Me-b-6Rovfxg"
      },
      "source": [
        "import requests\n",
        "import numpy as np\n",
        "import pandas as pd\n",
        "import lxml\n",
        "from bs4 import BeautifulSoup"
      ],
      "execution_count": 1,
      "outputs": []
    },
    {
      "cell_type": "markdown",
      "metadata": {
        "id": "wJtybDSdcouR"
      },
      "source": [
        "### PTT Beauty 版抓圖"
      ]
    },
    {
      "cell_type": "markdown",
      "metadata": {
        "id": "bqgrPIY-sDfI"
      },
      "source": [
        "參考資料 \n",
        "[爬蟲實戰 | HiSKIO 程式語言線上教學](https://www.youtube.com/watch?v=6GCEOY6RmwM&list=PLzH33jxgvsnfEF5l-iH82B2JvBlpq2m0w&index=17&t=0s&app=desktop)\n",
        "[5.1 痴漢爬蟲(PTT表特版下載器)](https://clu.gitbook.io/python-web-crawler-note/51-chi-han-pa-87f228-ptt-biao-te-ban-xia-zai-566829)"
      ]
    },
    {
      "cell_type": "markdown",
      "metadata": {
        "id": "J9I3rQoexFEm"
      },
      "source": [
        ""
      ]
    },
    {
      "cell_type": "markdown",
      "metadata": {
        "id": "kKq0iaGmxFEm"
      },
      "source": [
        "## 預訂可接案 有機會的產品，各房仲業物件資訊+非法資料(個資)等資料整合"
      ]
    },
    {
      "cell_type": "code",
      "metadata": {
        "id": "xmbmslsedvkz"
      },
      "source": [
        "# cookies 先同意我已經18歲\n",
        "cookies = {\n",
        "    'over18': '1'\n",
        "}\n",
        "response = requests.get('https://www.ptt.cc/bbs/Beauty/index.html', cookies=cookies)\n",
        "r_text = response.text\n",
        "soup = BeautifulSoup(r_text,'html.parser')"
      ],
      "execution_count": 3,
      "outputs": []
    },
    {
      "cell_type": "code",
      "metadata": {
        "id": "yjO7eFsYgDuh",
        "colab": {
          "base_uri": "https://localhost:8080/"
        },
        "outputId": "b6749cc8-85b6-48d8-e31a-9bc84442f925"
      },
      "source": [
        "# 先列出主旨、網址\n",
        "tag_name = 'div.title a'\n",
        "art = soup.select(tag_name)\n",
        "for xx in art:\n",
        "  print (xx['href'],xx.text)\n"
      ],
      "execution_count": 4,
      "outputs": [
        {
          "output_type": "stream",
          "name": "stdout",
          "text": [
            "/bbs/Beauty/M.1660379615.A.312.html [正妹] 輔仁大學\n",
            "/bbs/Beauty/M.1660384585.A.CF5.html [正妹] 永和區里民\n",
            "/bbs/Beauty/M.1660385803.A.CCB.html [正妹] 想娶回家當老婆\n",
            "/bbs/Beauty/M.1660386017.A.FF4.html [神人] 請問她是誰\n",
            "/bbs/Beauty/M.1660392213.A.14D.html [正妹] 目前全台最正候選人\n",
            "/bbs/Beauty/M.1660393644.A.569.html [正妹] 韓國 啦啦隊長 李多惠.gif\n",
            "/bbs/Beauty/M.1660394671.A.551.html [正妹] 喵寶\n",
            "/bbs/Beauty/M.1660395188.A.21C.html [正妹] 淡妝的Jessi\n",
            "/bbs/Beauty/M.1660395747.A.0F7.html [正妹] 況明潔\n",
            "/bbs/Beauty/M.1660395857.A.CC1.html [神人] 辣妹\n",
            "/bbs/Beauty/M.1660399020.A.3BE.html [正妹] YUNA\n",
            "/bbs/Beauty/M.1660403723.A.4B8.html [神人] CK正妹\n",
            "/bbs/Beauty/M.1660404459.A.71B.html [新聞] 穿爆乳裝被偷拍？台版三上悠亞遭嗆爆    \n",
            "/bbs/Beauty/M.1660411977.A.730.html [正妹] 調鏡頭\n",
            "/bbs/Beauty/M.1660412209.A.8A6.html [正妹] 蔡秀彬\n",
            "/bbs/Beauty/M.1660413172.A.62A.html [神人] 影片裡穿高跟鞋跳舞的女生 (1000P獎勵)\n",
            "/bbs/Beauty/M.1660414239.A.DDE.html [正妹] 南韓\n",
            "/bbs/Beauty/M.1660414899.A.5EA.html [正妹] 渋谷華\n",
            "/bbs/Beauty/M.1660416927.A.C59.html [正妹] yami\n",
            "/bbs/Beauty/M.1630069980.A.84B.html [公告] 表特板板規(2021.08.27)\n",
            "/bbs/Beauty/M.1617812701.A.727.html [公告] 不願上表特 ＆ 優文推薦 ＆ 檢舉建議專區\n",
            "/bbs/Beauty/M.1621836193.A.468.html [公告] 口罩文會退文\n"
          ]
        }
      ]
    },
    {
      "cell_type": "code",
      "metadata": {
        "id": "RApN3tfklftn",
        "colab": {
          "base_uri": "https://localhost:8080/"
        },
        "outputId": "91da776b-0c8a-456a-95fc-64b11ce72d79"
      },
      "source": [
        "#自動抓10頁標題、網址\n",
        "cookies = {\n",
        "    'over18': '1'\n",
        "}\n",
        "url = \"https://www.ptt.cc/bbs/Beauty/index.html\"\n",
        "for y in range(5):\n",
        "    response = requests.get(url, cookies=cookies)\n",
        "    r_text = response.text\n",
        "    soup = BeautifulSoup(r_text,'html.parser')\n",
        "    # 先列出主旨、網址\n",
        "    tag_name = 'div.title a'\n",
        "    art = soup.select(tag_name)\n",
        "    print(art)\n",
        "    next = soup.select('div.btn-group-paging a')\n",
        "    next_url = 'https://www.ptt.cc' + next[1]['href']\n",
        "    for xx in art:\n",
        "        print (xx.text,xx['href'])\n",
        "  #換到下一頁，再做一遍迴圈\n",
        "    url = next_url"
      ],
      "execution_count": 5,
      "outputs": [
        {
          "output_type": "stream",
          "name": "stdout",
          "text": [
            "[<a href=\"/bbs/Beauty/M.1660379615.A.312.html\">[正妹] 輔仁大學</a>, <a href=\"/bbs/Beauty/M.1660384585.A.CF5.html\">[正妹] 永和區里民</a>, <a href=\"/bbs/Beauty/M.1660385803.A.CCB.html\">[正妹] 想娶回家當老婆</a>, <a href=\"/bbs/Beauty/M.1660386017.A.FF4.html\">[神人] 請問她是誰</a>, <a href=\"/bbs/Beauty/M.1660392213.A.14D.html\">[正妹] 目前全台最正候選人</a>, <a href=\"/bbs/Beauty/M.1660393644.A.569.html\">[正妹] 韓國 啦啦隊長 李多惠.gif</a>, <a href=\"/bbs/Beauty/M.1660394671.A.551.html\">[正妹] 喵寶</a>, <a href=\"/bbs/Beauty/M.1660395188.A.21C.html\">[正妹] 淡妝的Jessi</a>, <a href=\"/bbs/Beauty/M.1660395747.A.0F7.html\">[正妹] 況明潔</a>, <a href=\"/bbs/Beauty/M.1660395857.A.CC1.html\">[神人] 辣妹</a>, <a href=\"/bbs/Beauty/M.1660399020.A.3BE.html\">[正妹] YUNA</a>, <a href=\"/bbs/Beauty/M.1660403723.A.4B8.html\">[神人] CK正妹</a>, <a href=\"/bbs/Beauty/M.1660404459.A.71B.html\">[新聞] 穿爆乳裝被偷拍？台版三上悠亞遭嗆爆    </a>, <a href=\"/bbs/Beauty/M.1660411977.A.730.html\">[正妹] 調鏡頭</a>, <a href=\"/bbs/Beauty/M.1660412209.A.8A6.html\">[正妹] 蔡秀彬</a>, <a href=\"/bbs/Beauty/M.1660413172.A.62A.html\">[神人] 影片裡穿高跟鞋跳舞的女生 (1000P獎勵)</a>, <a href=\"/bbs/Beauty/M.1660414239.A.DDE.html\">[正妹] 南韓</a>, <a href=\"/bbs/Beauty/M.1660414899.A.5EA.html\">[正妹] 渋谷華</a>, <a href=\"/bbs/Beauty/M.1660416927.A.C59.html\">[正妹] yami</a>, <a href=\"/bbs/Beauty/M.1630069980.A.84B.html\">[公告] 表特板板規(2021.08.27)</a>, <a href=\"/bbs/Beauty/M.1617812701.A.727.html\">[公告] 不願上表特 ＆ 優文推薦 ＆ 檢舉建議專區</a>, <a href=\"/bbs/Beauty/M.1621836193.A.468.html\">[公告] 口罩文會退文</a>]\n",
            "[正妹] 輔仁大學 /bbs/Beauty/M.1660379615.A.312.html\n",
            "[正妹] 永和區里民 /bbs/Beauty/M.1660384585.A.CF5.html\n",
            "[正妹] 想娶回家當老婆 /bbs/Beauty/M.1660385803.A.CCB.html\n",
            "[神人] 請問她是誰 /bbs/Beauty/M.1660386017.A.FF4.html\n",
            "[正妹] 目前全台最正候選人 /bbs/Beauty/M.1660392213.A.14D.html\n",
            "[正妹] 韓國 啦啦隊長 李多惠.gif /bbs/Beauty/M.1660393644.A.569.html\n",
            "[正妹] 喵寶 /bbs/Beauty/M.1660394671.A.551.html\n",
            "[正妹] 淡妝的Jessi /bbs/Beauty/M.1660395188.A.21C.html\n",
            "[正妹] 況明潔 /bbs/Beauty/M.1660395747.A.0F7.html\n",
            "[神人] 辣妹 /bbs/Beauty/M.1660395857.A.CC1.html\n",
            "[正妹] YUNA /bbs/Beauty/M.1660399020.A.3BE.html\n",
            "[神人] CK正妹 /bbs/Beauty/M.1660403723.A.4B8.html\n",
            "[新聞] 穿爆乳裝被偷拍？台版三上悠亞遭嗆爆     /bbs/Beauty/M.1660404459.A.71B.html\n",
            "[正妹] 調鏡頭 /bbs/Beauty/M.1660411977.A.730.html\n",
            "[正妹] 蔡秀彬 /bbs/Beauty/M.1660412209.A.8A6.html\n",
            "[神人] 影片裡穿高跟鞋跳舞的女生 (1000P獎勵) /bbs/Beauty/M.1660413172.A.62A.html\n",
            "[正妹] 南韓 /bbs/Beauty/M.1660414239.A.DDE.html\n",
            "[正妹] 渋谷華 /bbs/Beauty/M.1660414899.A.5EA.html\n",
            "[正妹] yami /bbs/Beauty/M.1660416927.A.C59.html\n",
            "[公告] 表特板板規(2021.08.27) /bbs/Beauty/M.1630069980.A.84B.html\n",
            "[公告] 不願上表特 ＆ 優文推薦 ＆ 檢舉建議專區 /bbs/Beauty/M.1617812701.A.727.html\n",
            "[公告] 口罩文會退文 /bbs/Beauty/M.1621836193.A.468.html\n",
            "[<a href=\"/bbs/Beauty/M.1660310519.A.0E7.html\">[正妹] 台版三上悠亞</a>, <a href=\"/bbs/Beauty/M.1660313963.A.AC0.html\">[正妹] 機車欸</a>, <a href=\"/bbs/Beauty/M.1660318884.A.DC8.html\">[帥哥] 坤達</a>, <a href=\"/bbs/Beauty/M.1660320490.A.270.html\">[神人] 想神這位妹妹</a>, <a href=\"/bbs/Beauty/M.1660323031.A.10E.html\">[正妹] 麻藥搜查官</a>, <a href=\"/bbs/Beauty/M.1660337144.A.9F1.html\">[正妹] 来栖りん</a>, <a href=\"/bbs/Beauty/M.1660342756.A.4E2.html\">[正妹] 冬冬37陳慧敏</a>, <a href=\"/bbs/Beauty/M.1660367276.A.397.html\">[正妹] 泰國 瘦大奶</a>, <a href=\"/bbs/Beauty/M.1660368407.A.5FC.html\">[正妹] 知恩的過去與現在</a>, <a href=\"/bbs/Beauty/M.1660374055.A.A0A.html\">[正妹] 卿卿 屁屁</a>, <a href=\"/bbs/Beauty/M.1660376496.A.0AC.html\">[正妹] youtuber租屋處樓上女房客</a>, <a href=\"/bbs/Beauty/M.1660378658.A.BD6.html\">[正妹] 流川夕</a>]\n",
            "[正妹] 台版三上悠亞 /bbs/Beauty/M.1660310519.A.0E7.html\n",
            "[正妹] 機車欸 /bbs/Beauty/M.1660313963.A.AC0.html\n",
            "[帥哥] 坤達 /bbs/Beauty/M.1660318884.A.DC8.html\n",
            "[神人] 想神這位妹妹 /bbs/Beauty/M.1660320490.A.270.html\n",
            "[正妹] 麻藥搜查官 /bbs/Beauty/M.1660323031.A.10E.html\n",
            "[正妹] 来栖りん /bbs/Beauty/M.1660337144.A.9F1.html\n",
            "[正妹] 冬冬37陳慧敏 /bbs/Beauty/M.1660342756.A.4E2.html\n",
            "[正妹] 泰國 瘦大奶 /bbs/Beauty/M.1660367276.A.397.html\n",
            "[正妹] 知恩的過去與現在 /bbs/Beauty/M.1660368407.A.5FC.html\n",
            "[正妹] 卿卿 屁屁 /bbs/Beauty/M.1660374055.A.A0A.html\n",
            "[正妹] youtuber租屋處樓上女房客 /bbs/Beauty/M.1660376496.A.0AC.html\n",
            "[正妹] 流川夕 /bbs/Beauty/M.1660378658.A.BD6.html\n",
            "[<a href=\"/bbs/Beauty/M.1660227105.A.032.html\">[正妹] 周姐 周淑怡</a>, <a href=\"/bbs/Beauty/M.1660228061.A.B6F.html\">[正妹] fromis_9 李賽綸</a>, <a href=\"/bbs/Beauty/M.1660230742.A.1D1.html\">[正妹] 南韓</a>, <a href=\"/bbs/Beauty/M.1660235786.A.24A.html\">[正妹] 宛庭</a>, <a href=\"/bbs/Beauty/M.1660260104.A.D27.html\">[正妹] sejinming                </a>, <a href=\"/bbs/Beauty/M.1660263684.A.A9C.html\">[正妹] 瑞莎</a>, <a href=\"/bbs/Beauty/M.1660273889.A.84D.html\">[正妹] 太兇了(物理)</a>, <a href=\"/bbs/Beauty/M.1660277740.A.48C.html\">[正妹] 兩位糖糖</a>, <a href=\"/bbs/Beauty/M.1660285952.A.650.html\">[正妹] 德國新住民Aky</a>, <a href=\"/bbs/Beauty/M.1660288961.A.8D4.html\">[正妹] ななせあらた</a>, <a href=\"/bbs/Beauty/M.1660293564.A.8D3.html\">[正妹] Ryujin </a>, <a href=\"/bbs/Beauty/M.1660293766.A.3BC.html\">[正妹] 韓國很大的短髮刺青</a>, <a href=\"/bbs/Beauty/M.1660294515.A.942.html\">[正妹] 油爪雙棲寶</a>, <a href=\"/bbs/Beauty/M.1660299896.A.350.html\">[正妹] 韓</a>, <a href=\"/bbs/Beauty/M.1660300429.A.E7F.html\">[正妹] 伊織もえ</a>, <a href=\"/bbs/Beauty/M.1660300496.A.417.html\">[正妹] LE SSERAFIM 恩採</a>, <a href=\"/bbs/Beauty/M.1660305755.A.4D3.html\">[正妹] 今日新牛仔褲 Minji </a>, <a href=\"/bbs/Beauty/M.1660306591.A.0EE.html\">[正妹] 韓團裡的越南妹</a>]\n",
            "[正妹] 周姐 周淑怡 /bbs/Beauty/M.1660227105.A.032.html\n",
            "[正妹] fromis_9 李賽綸 /bbs/Beauty/M.1660228061.A.B6F.html\n",
            "[正妹] 南韓 /bbs/Beauty/M.1660230742.A.1D1.html\n",
            "[正妹] 宛庭 /bbs/Beauty/M.1660235786.A.24A.html\n",
            "[正妹] sejinming                 /bbs/Beauty/M.1660260104.A.D27.html\n",
            "[正妹] 瑞莎 /bbs/Beauty/M.1660263684.A.A9C.html\n",
            "[正妹] 太兇了(物理) /bbs/Beauty/M.1660273889.A.84D.html\n",
            "[正妹] 兩位糖糖 /bbs/Beauty/M.1660277740.A.48C.html\n",
            "[正妹] 德國新住民Aky /bbs/Beauty/M.1660285952.A.650.html\n",
            "[正妹] ななせあらた /bbs/Beauty/M.1660288961.A.8D4.html\n",
            "[正妹] Ryujin  /bbs/Beauty/M.1660293564.A.8D3.html\n",
            "[正妹] 韓國很大的短髮刺青 /bbs/Beauty/M.1660293766.A.3BC.html\n",
            "[正妹] 油爪雙棲寶 /bbs/Beauty/M.1660294515.A.942.html\n",
            "[正妹] 韓 /bbs/Beauty/M.1660299896.A.350.html\n",
            "[正妹] 伊織もえ /bbs/Beauty/M.1660300429.A.E7F.html\n",
            "[正妹] LE SSERAFIM 恩採 /bbs/Beauty/M.1660300496.A.417.html\n",
            "[正妹] 今日新牛仔褲 Minji  /bbs/Beauty/M.1660305755.A.4D3.html\n",
            "[正妹] 韓團裡的越南妹 /bbs/Beauty/M.1660306591.A.0EE.html\n",
            "[<a href=\"/bbs/Beauty/M.1660149621.A.9F9.html\">[神人] 表舅媽</a>, <a href=\"/bbs/Beauty/M.1660175754.A.3B3.html\">[正妹] 小肥（OP）</a>, <a href=\"/bbs/Beauty/M.1660183697.A.C86.html\">[正妹] IVE rei</a>, <a href=\"/bbs/Beauty/M.1660186922.A.DBA.html\">[神人] 兇</a>, <a href=\"/bbs/Beauty/M.1660188302.A.CC8.html\">[神人] 一張動圖</a>, <a href=\"/bbs/Beauty/M.1660188488.A.030.html\">[正妹] 七年前的吉岡里帆</a>, <a href=\"/bbs/Beauty/M.1660189671.A.EB8.html\">[正妹] 子婷</a>, <a href=\"/bbs/Beauty/M.1660195644.A.EAB.html\">[帥哥] 抽菸Bad，但你們很帥。</a>, <a href=\"/bbs/Beauty/M.1660206850.A.746.html\">[正妹] 刃姐</a>, <a href=\"/bbs/Beauty/M.1660207954.A.41A.html\">[正妹] 想吃日本正妹人妻做的魚</a>, <a href=\"/bbs/Beauty/M.1660208102.A.07F.html\">[正妹] 南韓</a>, <a href=\"/bbs/Beauty/M.1660215755.A.AA9.html\">[正妹] 温貞菱</a>, <a href=\"/bbs/Beauty/M.1660217528.A.6B3.html\">[正妹] 年輕時的濱崎步</a>, <a href=\"/bbs/Beauty/M.1660218855.A.64B.html\">[正妹] 南韓</a>, <a href=\"/bbs/Beauty/M.1660220026.A.9DE.html\">[正妹] Heather Thomas 美國演員</a>, <a href=\"/bbs/Beauty/M.1660220876.A.B96.html\">[正妹] 可以攝攝</a>, <a href=\"/bbs/Beauty/M.1660223636.A.787.html\">[正妹] 瑞雪</a>]\n",
            "[神人] 表舅媽 /bbs/Beauty/M.1660149621.A.9F9.html\n",
            "[正妹] 小肥（OP） /bbs/Beauty/M.1660175754.A.3B3.html\n",
            "[正妹] IVE rei /bbs/Beauty/M.1660183697.A.C86.html\n",
            "[神人] 兇 /bbs/Beauty/M.1660186922.A.DBA.html\n",
            "[神人] 一張動圖 /bbs/Beauty/M.1660188302.A.CC8.html\n",
            "[正妹] 七年前的吉岡里帆 /bbs/Beauty/M.1660188488.A.030.html\n",
            "[正妹] 子婷 /bbs/Beauty/M.1660189671.A.EB8.html\n",
            "[帥哥] 抽菸Bad，但你們很帥。 /bbs/Beauty/M.1660195644.A.EAB.html\n",
            "[正妹] 刃姐 /bbs/Beauty/M.1660206850.A.746.html\n",
            "[正妹] 想吃日本正妹人妻做的魚 /bbs/Beauty/M.1660207954.A.41A.html\n",
            "[正妹] 南韓 /bbs/Beauty/M.1660208102.A.07F.html\n",
            "[正妹] 温貞菱 /bbs/Beauty/M.1660215755.A.AA9.html\n",
            "[正妹] 年輕時的濱崎步 /bbs/Beauty/M.1660217528.A.6B3.html\n",
            "[正妹] 南韓 /bbs/Beauty/M.1660218855.A.64B.html\n",
            "[正妹] Heather Thomas 美國演員 /bbs/Beauty/M.1660220026.A.9DE.html\n",
            "[正妹] 可以攝攝 /bbs/Beauty/M.1660220876.A.B96.html\n",
            "[正妹] 瑞雪 /bbs/Beauty/M.1660223636.A.787.html\n",
            "[<a href=\"/bbs/Beauty/M.1660057850.A.F90.html\">[正妹] 比臉大</a>, <a href=\"/bbs/Beauty/M.1660059930.A.026.html\">[正妹] IVE 安兪真</a>, <a href=\"/bbs/Beauty/M.1660061357.A.C6F.html\">[正妹] 南韓</a>, <a href=\"/bbs/Beauty/M.1660061610.A.2DA.html\">[正妹] 南韓</a>, <a href=\"/bbs/Beauty/M.1660061875.A.D40.html\">[正妹] 南韓</a>, <a href=\"/bbs/Beauty/M.1660068496.A.358.html\">[正妹] 都丸姊妹</a>, <a href=\"/bbs/Beauty/M.1660095083.A.F68.html\">[正妹] 感覺滿適合演藏馬的</a>, <a href=\"/bbs/Beauty/M.1660108458.A.40B.html\">[正妹] 6位</a>, <a href=\"/bbs/Beauty/M.1660108660.A.9BE.html\">[公告] 水桶</a>, <a href=\"/bbs/Beauty/M.1660110402.A.040.html\">[帥哥] 基哥</a>, <a href=\"/bbs/Beauty/M.1660117477.A.BF0.html\">[正妹] 十六歲 可愛 </a>, <a href=\"/bbs/Beauty/M.1660125816.A.5E2.html\">[正妹] 失業的租屋少女</a>, <a href=\"/bbs/Beauty/M.1660126048.A.102.html\">[正妹] 松下玲緒菜</a>, <a href=\"/bbs/Beauty/M.1660130133.A.B87.html\">[正妹] 邦寶</a>, <a href=\"/bbs/Beauty/M.1660130583.A.1D3.html\">[正妹] 韓國可愛女孩</a>, <a href=\"/bbs/Beauty/M.1660133755.A.B34.html\">[正妹] 坂井なるは</a>, <a href=\"/bbs/Beauty/M.1660137691.A.A52.html\">[正妹] えなこ</a>, <a href=\"/bbs/Beauty/M.1660145425.A.5BF.html\">[正妹] 無意間發現的坊間表演團體</a>]\n",
            "[正妹] 比臉大 /bbs/Beauty/M.1660057850.A.F90.html\n",
            "[正妹] IVE 安兪真 /bbs/Beauty/M.1660059930.A.026.html\n",
            "[正妹] 南韓 /bbs/Beauty/M.1660061357.A.C6F.html\n",
            "[正妹] 南韓 /bbs/Beauty/M.1660061610.A.2DA.html\n",
            "[正妹] 南韓 /bbs/Beauty/M.1660061875.A.D40.html\n",
            "[正妹] 都丸姊妹 /bbs/Beauty/M.1660068496.A.358.html\n",
            "[正妹] 感覺滿適合演藏馬的 /bbs/Beauty/M.1660095083.A.F68.html\n",
            "[正妹] 6位 /bbs/Beauty/M.1660108458.A.40B.html\n",
            "[公告] 水桶 /bbs/Beauty/M.1660108660.A.9BE.html\n",
            "[帥哥] 基哥 /bbs/Beauty/M.1660110402.A.040.html\n",
            "[正妹] 十六歲 可愛  /bbs/Beauty/M.1660117477.A.BF0.html\n",
            "[正妹] 失業的租屋少女 /bbs/Beauty/M.1660125816.A.5E2.html\n",
            "[正妹] 松下玲緒菜 /bbs/Beauty/M.1660126048.A.102.html\n",
            "[正妹] 邦寶 /bbs/Beauty/M.1660130133.A.B87.html\n",
            "[正妹] 韓國可愛女孩 /bbs/Beauty/M.1660130583.A.1D3.html\n",
            "[正妹] 坂井なるは /bbs/Beauty/M.1660133755.A.B34.html\n",
            "[正妹] えなこ /bbs/Beauty/M.1660137691.A.A52.html\n",
            "[正妹] 無意間發現的坊間表演團體 /bbs/Beauty/M.1660145425.A.5BF.html\n"
          ]
        }
      ]
    },
    {
      "cell_type": "code",
      "metadata": {
        "id": "PQXgUZbTGE_6",
        "colab": {
          "base_uri": "https://localhost:8080/"
        },
        "outputId": "a078ae81-73f5-4ea6-b107-dc33002042da"
      },
      "source": [
        "!pip install datetime \n",
        "!pip install sys \n",
        "!pip install run_time \n",
        "!pip install crawler"
      ],
      "execution_count": 6,
      "outputs": [
        {
          "output_type": "stream",
          "name": "stdout",
          "text": [
            "Looking in indexes: https://pypi.org/simple, https://us-python.pkg.dev/colab-wheels/public/simple/\n",
            "Collecting datetime\n",
            "  Downloading DateTime-4.5-py2.py3-none-any.whl (52 kB)\n",
            "\u001b[K     |████████████████████████████████| 52 kB 724 kB/s \n",
            "\u001b[?25hCollecting zope.interface\n",
            "  Downloading zope.interface-5.4.0-cp37-cp37m-manylinux2010_x86_64.whl (251 kB)\n",
            "\u001b[K     |████████████████████████████████| 251 kB 7.6 MB/s \n",
            "\u001b[?25hRequirement already satisfied: pytz in /usr/local/lib/python3.7/dist-packages (from datetime) (2022.1)\n",
            "Requirement already satisfied: setuptools in /usr/local/lib/python3.7/dist-packages (from zope.interface->datetime) (57.4.0)\n",
            "Installing collected packages: zope.interface, datetime\n",
            "Successfully installed datetime-4.5 zope.interface-5.4.0\n",
            "Looking in indexes: https://pypi.org/simple, https://us-python.pkg.dev/colab-wheels/public/simple/\n",
            "\u001b[31mERROR: Could not find a version that satisfies the requirement sys (from versions: none)\u001b[0m\n",
            "\u001b[31mERROR: No matching distribution found for sys\u001b[0m\n",
            "Looking in indexes: https://pypi.org/simple, https://us-python.pkg.dev/colab-wheels/public/simple/\n",
            "\u001b[31mERROR: Could not find a version that satisfies the requirement run_time (from versions: none)\u001b[0m\n",
            "\u001b[31mERROR: No matching distribution found for run_time\u001b[0m\n",
            "Looking in indexes: https://pypi.org/simple, https://us-python.pkg.dev/colab-wheels/public/simple/\n",
            "Collecting crawler\n",
            "  Downloading crawler-0.0.2.tar.gz (6.0 kB)\n",
            "Requirement already satisfied: aiohttp in /usr/local/lib/python3.7/dist-packages (from crawler) (3.8.1)\n",
            "Requirement already satisfied: charset-normalizer<3.0,>=2.0 in /usr/local/lib/python3.7/dist-packages (from aiohttp->crawler) (2.1.0)\n",
            "Requirement already satisfied: attrs>=17.3.0 in /usr/local/lib/python3.7/dist-packages (from aiohttp->crawler) (22.1.0)\n",
            "Requirement already satisfied: async-timeout<5.0,>=4.0.0a3 in /usr/local/lib/python3.7/dist-packages (from aiohttp->crawler) (4.0.2)\n",
            "Requirement already satisfied: asynctest==0.13.0 in /usr/local/lib/python3.7/dist-packages (from aiohttp->crawler) (0.13.0)\n",
            "Requirement already satisfied: typing-extensions>=3.7.4 in /usr/local/lib/python3.7/dist-packages (from aiohttp->crawler) (4.1.1)\n",
            "Requirement already satisfied: aiosignal>=1.1.2 in /usr/local/lib/python3.7/dist-packages (from aiohttp->crawler) (1.2.0)\n",
            "Requirement already satisfied: frozenlist>=1.1.1 in /usr/local/lib/python3.7/dist-packages (from aiohttp->crawler) (1.3.1)\n",
            "Requirement already satisfied: multidict<7.0,>=4.5 in /usr/local/lib/python3.7/dist-packages (from aiohttp->crawler) (6.0.2)\n",
            "Requirement already satisfied: yarl<2.0,>=1.0 in /usr/local/lib/python3.7/dist-packages (from aiohttp->crawler) (1.8.1)\n",
            "Requirement already satisfied: idna>=2.0 in /usr/local/lib/python3.7/dist-packages (from yarl<2.0,>=1.0->aiohttp->crawler) (2.10)\n",
            "Building wheels for collected packages: crawler\n",
            "  Building wheel for crawler (setup.py) ... \u001b[?25l\u001b[?25hdone\n",
            "  Created wheel for crawler: filename=crawler-0.0.2-py3-none-any.whl size=9900 sha256=5f092f3c2166d70302440ef623d700faaa5af0bb284120d33d67f649391e30d4\n",
            "  Stored in directory: /root/.cache/pip/wheels/5c/f7/f9/2966b88c72c92deb3ab48f3dc590645ae1b2fabbd28ddc8e2f\n",
            "Successfully built crawler\n",
            "Installing collected packages: crawler\n",
            "Successfully installed crawler-0.0.2\n"
          ]
        }
      ]
    },
    {
      "cell_type": "code",
      "metadata": {
        "id": "wsP9nz0tGCQv",
        "colab": {
          "base_uri": "https://localhost:8080/",
          "height": 363
        },
        "outputId": "3e6d3c96-e5b2-4441-9b96-9f272cf4a14c"
      },
      "source": [
        "import datetime\n",
        "import sys\n",
        "from run_time import my_time\n",
        "from crawler import PttSpider, Download, ArticleInfo\n",
        "\n",
        "\n",
        "@my_time\n",
        "def main():\n",
        "    # python beauty_spider2.py [版名] [爬幾頁] [推文多少以上]\n",
        "    # python beauty_spider2.py beauty 3 10\n",
        "    board, page_term, push_rate = sys.argv[1], int(sys.argv[2]), int(sys.argv[3])\n",
        "    # board, page_term, push_rate = 'beauty', 5, 20  # for debugger\n",
        "    print('start crawler ptt {}...'.format(board))\n",
        "    crawler_datetime = datetime.datetime.now()\n",
        "    spider = PttSpider(board=board,\n",
        "                       parser_page=page_term,\n",
        "                       push_rate=push_rate)\n",
        "    spider.run()\n",
        "    datetime_format = '%Y%m%d%H%M%S'\n",
        "    crawler_time = '{}_PttImg_{:{}}'.format(spider.board, crawler_datetime, datetime_format)\n",
        "    info = ArticleInfo.data_process(spider.info, crawler_time)\n",
        "    download = Download(info)\n",
        "    download.run()\n",
        "    print(\"下載完畢...\")\n",
        "\n",
        "\n",
        "if __name__ == '__main__':\n",
        "    main()"
      ],
      "execution_count": null,
      "outputs": [
        {
          "output_type": "error",
          "ename": "ModuleNotFoundError",
          "evalue": "ignored",
          "traceback": [
            "\u001b[0;31m---------------------------------------------------------------------------\u001b[0m",
            "\u001b[0;31mModuleNotFoundError\u001b[0m                       Traceback (most recent call last)",
            "\u001b[0;32m<ipython-input-19-d17b3244d532>\u001b[0m in \u001b[0;36m<module>\u001b[0;34m()\u001b[0m\n\u001b[1;32m      1\u001b[0m \u001b[0;32mimport\u001b[0m \u001b[0mdatetime\u001b[0m\u001b[0;34m\u001b[0m\u001b[0;34m\u001b[0m\u001b[0m\n\u001b[1;32m      2\u001b[0m \u001b[0;32mimport\u001b[0m \u001b[0msys\u001b[0m\u001b[0;34m\u001b[0m\u001b[0;34m\u001b[0m\u001b[0m\n\u001b[0;32m----> 3\u001b[0;31m \u001b[0;32mfrom\u001b[0m \u001b[0mrun_time\u001b[0m \u001b[0;32mimport\u001b[0m \u001b[0mmy_time\u001b[0m\u001b[0;34m\u001b[0m\u001b[0;34m\u001b[0m\u001b[0m\n\u001b[0m\u001b[1;32m      4\u001b[0m \u001b[0;32mfrom\u001b[0m \u001b[0mcrawler\u001b[0m \u001b[0;32mimport\u001b[0m \u001b[0mPttSpider\u001b[0m\u001b[0;34m,\u001b[0m \u001b[0mDownload\u001b[0m\u001b[0;34m,\u001b[0m \u001b[0mArticleInfo\u001b[0m\u001b[0;34m\u001b[0m\u001b[0;34m\u001b[0m\u001b[0m\n\u001b[1;32m      5\u001b[0m \u001b[0;34m\u001b[0m\u001b[0m\n",
            "\u001b[0;31mModuleNotFoundError\u001b[0m: No module named 'run_time'",
            "",
            "\u001b[0;31m---------------------------------------------------------------------------\u001b[0;32m\nNOTE: If your import is failing due to a missing package, you can\nmanually install dependencies using either !pip or !apt.\n\nTo view examples of installing some common dependencies, click the\n\"Open Examples\" button below.\n\u001b[0;31m---------------------------------------------------------------------------\u001b[0m\n"
          ]
        }
      ]
    },
    {
      "cell_type": "code",
      "metadata": {
        "id": "V9XAwIvpqGmd"
      },
      "source": [
        "cookies = {\n",
        "    'over18': '1'\n",
        "}\n",
        "url = 'https://www.ptt.cc/bbs/Beauty/index.html' #表特版\n",
        "response = requests.get(url, cookies=cookies) \n",
        "r_text = response.text\n",
        "soup = BeautifulSoup(r_text,'html.parser')\n",
        "art = soup.select('div title a')\n",
        "print (art)\n",
        "for xx in art:\n",
        "    print(xx['href'],xx.text)\n",
        "next = soup.select('div.btn-group-paging a')"
      ],
      "execution_count": null,
      "outputs": []
    },
    {
      "cell_type": "markdown",
      "metadata": {
        "id": "eLWk70BibWC5"
      },
      "source": [
        ""
      ]
    },
    {
      "cell_type": "markdown",
      "metadata": {
        "id": "TPi4q6yXTlcO"
      },
      "source": [
        "### 爬影片評分"
      ]
    },
    {
      "cell_type": "markdown",
      "metadata": {
        "id": "IKYpDDamaRdK"
      },
      "source": [
        "![alt text](https://)"
      ]
    },
    {
      "cell_type": "code",
      "metadata": {
        "id": "7bFtno7CQ4LN",
        "colab": {
          "base_uri": "https://localhost:8080/",
          "height": 50
        },
        "outputId": "2dec9d0b-95af-4f3c-c7ca-70aac83c6ef5"
      },
      "source": [
        "url = \"http://www.imdb.com/\"\n",
        "response = requests.get(url)\n",
        "print(response.status_code)\n",
        "print(type(response))"
      ],
      "execution_count": null,
      "outputs": [
        {
          "output_type": "stream",
          "text": [
            "200\n",
            "<class 'requests.models.Response'>\n"
          ],
          "name": "stdout"
        }
      ]
    },
    {
      "cell_type": "code",
      "metadata": {
        "id": "Tuk3i51SYO0D"
      },
      "source": [
        "request_url = \"https://www.imdb.com/title/tt4154796/\"\n",
        "response = requests.get(request_url)\n",
        "r_text = response.text"
      ],
      "execution_count": null,
      "outputs": []
    },
    {
      "cell_type": "code",
      "metadata": {
        "id": "Q3rNLRjrYVLi",
        "colab": {
          "base_uri": "https://localhost:8080/",
          "height": 50
        },
        "outputId": "5f1acd5b-a5ab-458b-8b5a-839917c32e6e"
      },
      "source": [
        "print(type(r_text))\n",
        "print(len(r_text))"
      ],
      "execution_count": null,
      "outputs": [
        {
          "output_type": "stream",
          "text": [
            "<class 'str'>\n",
            "295553\n"
          ],
          "name": "stdout"
        }
      ]
    },
    {
      "cell_type": "code",
      "metadata": {
        "id": "T9Gg0voRYe_G",
        "colab": {
          "base_uri": "https://localhost:8080/",
          "height": 34
        },
        "outputId": "d15d0ceb-3ef1-4b5c-c482-a873c3f33ed2"
      },
      "source": [
        "soup = BeautifulSoup(r_text)\n",
        "print(type(soup))"
      ],
      "execution_count": null,
      "outputs": [
        {
          "output_type": "stream",
          "text": [
            "<class 'bs4.BeautifulSoup'>\n"
          ],
          "name": "stdout"
        }
      ]
    },
    {
      "cell_type": "code",
      "metadata": {
        "id": "mH8hzWqMYfro",
        "colab": {
          "base_uri": "https://localhost:8080/",
          "height": 34
        },
        "outputId": "48e54d15-e272-4b16-8736-1afb06bc8f47"
      },
      "source": [
        "movie_title_cs = \"h1\"\n",
        "movie_poster_cs = \".poster img\"\n",
        "movie_rating_cs = \"strong span\"\n",
        "movie_genre_cs = \".subtext a\"\n",
        "movie_cast_cs = \".primary_photo+ td a\"\n",
        "soup.select(movie_title_cs)"
      ],
      "execution_count": null,
      "outputs": [
        {
          "output_type": "execute_result",
          "data": {
            "text/plain": [
              "[<h1 class=\"\">Avengers: Endgame <span id=\"titleYear\">(<a href=\"/year/2019/\">2019</a>)</span> </h1>]"
            ]
          },
          "metadata": {
            "tags": []
          },
          "execution_count": 26
        }
      ]
    },
    {
      "cell_type": "code",
      "metadata": {
        "id": "EygrPCDyY48i",
        "colab": {
          "base_uri": "https://localhost:8080/",
          "height": 35
        },
        "outputId": "b7836588-62fe-4f50-a3b5-74cb233bc855"
      },
      "source": [
        "elem = soup.select(movie_title_cs)[0]\n",
        "movie_title = elem.text.strip().replace(\"\\xa0\", \"\")\n",
        "movie_title"
      ],
      "execution_count": null,
      "outputs": [
        {
          "output_type": "execute_result",
          "data": {
            "application/vnd.google.colaboratory.intrinsic": {
              "type": "string"
            },
            "text/plain": [
              "'Avengers: Endgame(2019)'"
            ]
          },
          "metadata": {
            "tags": []
          },
          "execution_count": 27
        }
      ]
    },
    {
      "cell_type": "code",
      "metadata": {
        "id": "bW1fI0aIYh_T",
        "colab": {
          "base_uri": "https://localhost:8080/",
          "height": 54
        },
        "outputId": "2d885293-76bf-401a-8267-c0fd033d9184"
      },
      "source": [
        "soup.select(movie_poster_cs)"
      ],
      "execution_count": null,
      "outputs": [
        {
          "output_type": "execute_result",
          "data": {
            "text/plain": [
              "[<img alt=\"Avengers: Endgame Poster\" src=\"https://m.media-amazon.com/images/M/MV5BMTc5MDE2ODcwNV5BMl5BanBnXkFtZTgwMzI2NzQ2NzM@._V1_UX182_CR0,0,182,268_AL_.jpg\" title=\"Avengers: Endgame Poster\"/>]"
            ]
          },
          "metadata": {
            "tags": []
          },
          "execution_count": 28
        }
      ]
    },
    {
      "cell_type": "code",
      "metadata": {
        "id": "MURL7xXnYhIQ",
        "colab": {
          "base_uri": "https://localhost:8080/",
          "height": 34
        },
        "outputId": "456f6a2e-6c8c-4b6f-fb30-fd5ed828b9bf"
      },
      "source": [
        "elem = soup.select(movie_rating_cs)[0]\n",
        "movie_rating = float(elem.text)\n",
        "movie_rating"
      ],
      "execution_count": null,
      "outputs": [
        {
          "output_type": "execute_result",
          "data": {
            "text/plain": [
              "8.4"
            ]
          },
          "metadata": {
            "tags": []
          },
          "execution_count": 19
        }
      ]
    },
    {
      "cell_type": "markdown",
      "metadata": {
        "id": "-R2Zv1csSXHf"
      },
      "source": [
        "### NBA範例"
      ]
    },
    {
      "cell_type": "code",
      "metadata": {
        "id": "yXM_xtAfRnCf",
        "colab": {
          "base_uri": "https://localhost:8080/",
          "height": 768
        },
        "outputId": "f1d069cd-9b6f-4bb6-aafd-232c085a6eec"
      },
      "source": [
        "url2 = \"https://data.nba.net/10s/prod/v3/today.json\"\n",
        "response = requests.get(url2)\n",
        "r_json = response.json()\n",
        "print(r_json)\n",
        "print(type(r_json))\n",
        "r_json['links']"
      ],
      "execution_count": null,
      "outputs": [
        {
          "output_type": "stream",
          "text": [
            "{'_internal': {'pubDateTime': '2020-07-13 12:00:51.289 EDT', 'igorPath': 'cron,1594656049862,1594656049862|router,1594656049862,1594656050017|domUpdater,1594656050141,1594656050794|feedProducer,1594656051093,1594656052873', 'xslt': 'NBA/xsl/league/schedule/marty_today.xsl', 'xsltForceRecompile': 'true', 'xsltInCache': 'false', 'xsltCompileTimeMillis': '65', 'xsltTransformTimeMillis': '68', 'consolidatedDomKey': 'prod__transform__marty_today__3334323387867', 'endToEndTimeMillis': '3011'}, 'teamSitesOnly': {'seasonStage': 2, 'seasonYear': 2019, 'rosterYear': 2019, 'statsStage': 2, 'statsYear': 2019, 'displayYear': '2019-20', 'lastPlayByPlay': '/json/cms/noseason/game/{{gameDate}}/{{gameId}}/pbp_last.json', 'allPlayByPlay': '/data/10s/json/cms/noseason/game/{{gameDate}}/{{gameId}}/pbp_all.json', 'playerMatchup': '/data/10s/json/cms/2019/game/{{gameDate}}/{{gameId}}/playersPerGame.json', 'series': '/data/5s/json/cms/2019/regseason/team/{{teamUrlCode}}/series.json'}, 'seasonScheduleYear': 2019, 'showPlayoffsClinch': True, 'links': {'anchorDate': '20200730', 'currentDate': '20200730', 'calendar': '/prod/v1/multi/calendar.json', 'todayScoreboard': '/prod/v2/20200730/scoreboard.json', 'currentScoreboard': '/prod/v2/20200730/scoreboard.json', 'teams': '/prod/v2/2019/teams.json', 'scoreboard': '/prod/v2/{{gameDate}}/scoreboard.json', 'leagueRosterPlayers': '/prod/v1/2019/players.json', 'allstarRoster': '/prod/v1/allstar/2018/AS_roster.json', 'leagueRosterCoaches': '/prod/v1/2019/coaches.json', 'leagueSchedule': '/prod/v1/multi/schedule.json', 'leagueConfStandings': '/prod/v1/current/standings_conference.json', 'leagueDivStandings': '/prod/v1/current/standings_division.json', 'leagueUngroupedStandings': '/prod/v1/current/standings_all.json', 'leagueMiniStandings': '/prod/v1/current/standings_all_no_sort_keys.json', 'leagueTeamStatsLeaders': '/prod/v1/2019/team_stats_rankings.json', 'leagueLastFiveGameTeamStats': '/prod/v1/2019/team_stats_last_five_games.json', 'previewArticle': '/prod/v1/{{gameDate}}/{{gameId}}_preview_article.json', 'recapArticle': '/prod/v1/{{gameDate}}/{{gameId}}_recap_article.json', 'gameBookPdf': '/prod/v1/{{gameDate}}/{{gameId}}_Book.pdf', 'boxscore': '/prod/v1/{{gameDate}}/{{gameId}}_boxscore.json', 'miniBoxscore': '/prod/v1/{{gameDate}}/{{gameId}}_mini_boxscore.json', 'pbp': '/prod/v1/{{gameDate}}/{{gameId}}_pbp_{{periodNum}}.json', 'leadTracker': '/prod/v1/{{gameDate}}/{{gameId}}_lead_tracker_{{periodNum}}.json', 'playerGameLog': '/prod/v1/2019/players/{{personId}}_gamelog.json', 'playerProfile': '/prod/v1/2019/players/{{personId}}_profile.json', 'playerUberStats': '/prod/v1/2019/players/{{personId}}_uber_stats.json', 'teamSchedule': '/prod/v1/2019/teams/{{teamUrlCode}}/schedule.json', 'teamsConfig': '/prod/2019/teams_config.json', 'teamRoster': '/prod/v1/2019/teams/{{teamUrlCode}}/roster.json', 'teamsConfigYear': '/prod/{{seasonScheduleYear}}/teams_config.json', 'teamScheduleYear': '/prod/v1/{{seasonScheduleYear}}/teams/{{teamUrlCode}}/schedule.json', 'teamLeaders': '/prod/v1/2019/teams/{{teamUrlCode}}/leaders.json', 'teamScheduleYear2': '/prod/v1/{{seasonScheduleYear}}/teams/{{teamId}}/schedule.json', 'teamLeaders2': '/prod/v1/2019/teams/{{teamId}}/leaders.json', 'teamICS': '/prod/teams/schedules/2019/{{teamUrlCode}}_home_schedule.ics', 'teamICS2': '/prod/teams/schedules/2019/{{teamUrlCode}}_schedule.ics', 'playoffsBracket': '/prod/v1/2018/playoffsBracket.json', 'playoffSeriesLeaders': '/prod/v1/2018/playoffs_{{seriesId}}_leaders.json', 'universalLinkMapping': 'https://www.nba.com/mobile/apps/configs/prod/universalLinkMapping.json', 'ticketLink': 'https://a.data.nba.com/tickets/single/{{seasonScheduleYear}}/{{gameId}}/{{trackingId}}'}}\n",
            "<class 'dict'>\n"
          ],
          "name": "stdout"
        },
        {
          "output_type": "execute_result",
          "data": {
            "text/plain": [
              "{'allstarRoster': '/prod/v1/allstar/2018/AS_roster.json',\n",
              " 'anchorDate': '20200730',\n",
              " 'boxscore': '/prod/v1/{{gameDate}}/{{gameId}}_boxscore.json',\n",
              " 'calendar': '/prod/v1/multi/calendar.json',\n",
              " 'currentDate': '20200730',\n",
              " 'currentScoreboard': '/prod/v2/20200730/scoreboard.json',\n",
              " 'gameBookPdf': '/prod/v1/{{gameDate}}/{{gameId}}_Book.pdf',\n",
              " 'leadTracker': '/prod/v1/{{gameDate}}/{{gameId}}_lead_tracker_{{periodNum}}.json',\n",
              " 'leagueConfStandings': '/prod/v1/current/standings_conference.json',\n",
              " 'leagueDivStandings': '/prod/v1/current/standings_division.json',\n",
              " 'leagueLastFiveGameTeamStats': '/prod/v1/2019/team_stats_last_five_games.json',\n",
              " 'leagueMiniStandings': '/prod/v1/current/standings_all_no_sort_keys.json',\n",
              " 'leagueRosterCoaches': '/prod/v1/2019/coaches.json',\n",
              " 'leagueRosterPlayers': '/prod/v1/2019/players.json',\n",
              " 'leagueSchedule': '/prod/v1/multi/schedule.json',\n",
              " 'leagueTeamStatsLeaders': '/prod/v1/2019/team_stats_rankings.json',\n",
              " 'leagueUngroupedStandings': '/prod/v1/current/standings_all.json',\n",
              " 'miniBoxscore': '/prod/v1/{{gameDate}}/{{gameId}}_mini_boxscore.json',\n",
              " 'pbp': '/prod/v1/{{gameDate}}/{{gameId}}_pbp_{{periodNum}}.json',\n",
              " 'playerGameLog': '/prod/v1/2019/players/{{personId}}_gamelog.json',\n",
              " 'playerProfile': '/prod/v1/2019/players/{{personId}}_profile.json',\n",
              " 'playerUberStats': '/prod/v1/2019/players/{{personId}}_uber_stats.json',\n",
              " 'playoffSeriesLeaders': '/prod/v1/2018/playoffs_{{seriesId}}_leaders.json',\n",
              " 'playoffsBracket': '/prod/v1/2018/playoffsBracket.json',\n",
              " 'previewArticle': '/prod/v1/{{gameDate}}/{{gameId}}_preview_article.json',\n",
              " 'recapArticle': '/prod/v1/{{gameDate}}/{{gameId}}_recap_article.json',\n",
              " 'scoreboard': '/prod/v2/{{gameDate}}/scoreboard.json',\n",
              " 'teamICS': '/prod/teams/schedules/2019/{{teamUrlCode}}_home_schedule.ics',\n",
              " 'teamICS2': '/prod/teams/schedules/2019/{{teamUrlCode}}_schedule.ics',\n",
              " 'teamLeaders': '/prod/v1/2019/teams/{{teamUrlCode}}/leaders.json',\n",
              " 'teamLeaders2': '/prod/v1/2019/teams/{{teamId}}/leaders.json',\n",
              " 'teamRoster': '/prod/v1/2019/teams/{{teamUrlCode}}/roster.json',\n",
              " 'teamSchedule': '/prod/v1/2019/teams/{{teamUrlCode}}/schedule.json',\n",
              " 'teamScheduleYear': '/prod/v1/{{seasonScheduleYear}}/teams/{{teamUrlCode}}/schedule.json',\n",
              " 'teamScheduleYear2': '/prod/v1/{{seasonScheduleYear}}/teams/{{teamId}}/schedule.json',\n",
              " 'teams': '/prod/v2/2019/teams.json',\n",
              " 'teamsConfig': '/prod/2019/teams_config.json',\n",
              " 'teamsConfigYear': '/prod/{{seasonScheduleYear}}/teams_config.json',\n",
              " 'ticketLink': 'https://a.data.nba.com/tickets/single/{{seasonScheduleYear}}/{{gameId}}/{{trackingId}}',\n",
              " 'todayScoreboard': '/prod/v2/20200730/scoreboard.json',\n",
              " 'universalLinkMapping': 'https://www.nba.com/mobile/apps/configs/prod/universalLinkMapping.json'}"
            ]
          },
          "metadata": {
            "tags": []
          },
          "execution_count": 18
        }
      ]
    },
    {
      "cell_type": "code",
      "metadata": {
        "id": "vWoinX9-SwGC",
        "colab": {
          "base_uri": "https://localhost:8080/",
          "height": 68
        },
        "outputId": "2e529438-06f8-4938-b1a5-7871242fbb92"
      },
      "source": [
        "url3 = \"https://data.nba.net/prod/v2/2019/teams.json\"\n",
        "response = requests.get(url3)\n",
        "r_json = response.json()\n",
        "teams = r_json['league']['standard']\n",
        "print(type(teams))\n",
        "print(len(teams))\n",
        "nba_teams = [team for team in teams if team['isNBAFranchise']]\n",
        "print(len(nba_teams))"
      ],
      "execution_count": null,
      "outputs": [
        {
          "output_type": "stream",
          "text": [
            "<class 'list'>\n",
            "52\n",
            "30\n"
          ],
          "name": "stdout"
        }
      ]
    },
    {
      "cell_type": "markdown",
      "metadata": {
        "id": "RyPESVG1ORMI"
      },
      "source": [
        "## 0729 ML (Kaggle 題目)"
      ]
    },
    {
      "cell_type": "code",
      "metadata": {
        "id": "nsxauhGDvmNv"
      },
      "source": [
        ""
      ],
      "execution_count": null,
      "outputs": []
    },
    {
      "cell_type": "markdown",
      "metadata": {
        "id": "kdKRWSIQv6bC"
      },
      "source": [
        ""
      ]
    },
    {
      "cell_type": "markdown",
      "metadata": {
        "id": "9Vwx1aYUwWPd"
      },
      "source": [
        "## 0812 python flask、Django架站"
      ]
    },
    {
      "cell_type": "markdown",
      "metadata": {
        "id": "GDWRHFHUOSd4"
      },
      "source": [
        "# 附錄"
      ]
    },
    {
      "cell_type": "code",
      "metadata": {
        "id": "s3E_dywAayaI",
        "colab": {
          "base_uri": "https://localhost:8080/",
          "height": 34
        },
        "outputId": "a5a3f401-fade-4d38-b443-a46c6e38d44f"
      },
      "source": [
        "import time\n",
        "date = time.strftime(\"%m/%d\").lstrip('0')\n",
        "print(date)"
      ],
      "execution_count": null,
      "outputs": [
        {
          "output_type": "stream",
          "text": [
            "7/15\n"
          ],
          "name": "stdout"
        }
      ]
    },
    {
      "cell_type": "markdown",
      "metadata": {
        "id": "FA30Ecu3QZn4"
      },
      "source": [
        "# 單機 教學"
      ]
    },
    {
      "cell_type": "markdown",
      "metadata": {
        "id": "aBlhSw1qMSVc"
      },
      "source": [
        "# New Section"
      ]
    },
    {
      "cell_type": "markdown",
      "metadata": {
        "id": "Dj16wkUzQjgj"
      },
      "source": [
        "conda env list\n",
        "\n",
        "conda create --name web_scraping python=3.7.6\n",
        "\n",
        "conda activate web_scraping\n",
        "\n",
        "conda install ipykernel requests lxml beautifulsoup4 selenium  #conda 要裝得套件\n",
        "\n"
      ]
    }
  ]
}