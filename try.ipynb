{
 "cells": [
  {
   "cell_type": "code",
   "execution_count": 7,
   "metadata": {
    "collapsed": true,
    "pycharm": {
     "name": "#%%\n"
    }
   },
   "outputs": [],
   "source": [
    "import pandas as pd\n",
    "import numpy as np\n",
    "import plotly.express as px"
   ]
  },
  {
   "cell_type": "code",
   "execution_count": null,
   "outputs": [],
   "source": [],
   "metadata": {
    "collapsed": false,
    "pycharm": {
     "name": "#%%\n"
    }
   }
  },
  {
   "cell_type": "code",
   "execution_count": 3,
   "outputs": [],
   "source": [
    "df = pd.read_csv(\"E:\\\\new_Desktop\\\\python\\\\Dashborad_with_multipleplots\\\\train.csv\")"
   ],
   "metadata": {
    "collapsed": false,
    "pycharm": {
     "name": "#%%\n"
    }
   }
  },
  {
   "cell_type": "markdown",
   "source": [],
   "metadata": {
    "collapsed": false,
    "pycharm": {
     "name": "#%% md\n"
    }
   }
  },
  {
   "cell_type": "code",
   "execution_count": 8,
   "outputs": [],
   "source": [
    "\n",
    "df1 = px.data.gapminder().query(\"year == 2007\").query(\"continent == 'Europe'\")"
   ],
   "metadata": {
    "collapsed": false,
    "pycharm": {
     "name": "#%%\n"
    }
   }
  },
  {
   "cell_type": "code",
   "execution_count": 9,
   "outputs": [
    {
     "data": {
      "text/plain": "                     country continent  year  lifeExp       pop     gdpPercap  \\\n23                   Albania    Europe  2007   76.423   3600523   5937.029526   \n83                   Austria    Europe  2007   79.829   8199783  36126.492700   \n119                  Belgium    Europe  2007   79.441  10392226  33692.605080   \n155   Bosnia and Herzegovina    Europe  2007   74.852   4552198   7446.298803   \n191                 Bulgaria    Europe  2007   73.005   7322858  10680.792820   \n383                  Croatia    Europe  2007   75.748   4493312  14619.222720   \n407           Czech Republic    Europe  2007   76.486  10228744  22833.308510   \n419                  Denmark    Europe  2007   78.332   5468120  35278.418740   \n527                  Finland    Europe  2007   79.313   5238460  33207.084400   \n539                   France    Europe  2007   80.657  61083916  30470.016700   \n575                  Germany    Europe  2007   79.406  82400996  32170.374420   \n599                   Greece    Europe  2007   79.483  10706290  27538.411880   \n683                  Hungary    Europe  2007   73.338   9956108  18008.944440   \n695                  Iceland    Europe  2007   81.757    301931  36180.789190   \n755                  Ireland    Europe  2007   78.885   4109086  40675.996350   \n779                    Italy    Europe  2007   80.546  58147733  28569.719700   \n1019              Montenegro    Europe  2007   74.543    684736   9253.896111   \n1091             Netherlands    Europe  2007   79.762  16570613  36797.933320   \n1151                  Norway    Europe  2007   80.196   4627926  49357.190170   \n1235                  Poland    Europe  2007   75.563  38518241  15389.924680   \n1247                Portugal    Europe  2007   78.098  10642836  20509.647770   \n1283                 Romania    Europe  2007   72.476  22276056  10808.475610   \n1343                  Serbia    Europe  2007   74.002  10150265   9786.534714   \n1379         Slovak Republic    Europe  2007   74.663   5447502  18678.314350   \n1391                Slovenia    Europe  2007   77.926   2009245  25768.257590   \n1427                   Spain    Europe  2007   80.941  40448191  28821.063700   \n1475                  Sweden    Europe  2007   80.884   9031088  33859.748350   \n1487             Switzerland    Europe  2007   81.701   7554661  37506.419070   \n1583                  Turkey    Europe  2007   71.777  71158647   8458.276384   \n1607          United Kingdom    Europe  2007   79.425  60776238  33203.261280   \n\n     iso_alpha  iso_num  \n23         ALB        8  \n83         AUT       40  \n119        BEL       56  \n155        BIH       70  \n191        BGR      100  \n383        HRV      191  \n407        CZE      203  \n419        DNK      208  \n527        FIN      246  \n539        FRA      250  \n575        DEU      276  \n599        GRC      300  \n683        HUN      348  \n695        ISL      352  \n755        IRL      372  \n779        ITA      380  \n1019       MNE      499  \n1091       NLD      528  \n1151       NOR      578  \n1235       POL      616  \n1247       PRT      620  \n1283       ROU      642  \n1343       SRB      688  \n1379       SVK      703  \n1391       SVN      705  \n1427       ESP      724  \n1475       SWE      752  \n1487       CHE      756  \n1583       TUR      792  \n1607       GBR      826  ",
      "text/html": "<div>\n<style scoped>\n    .dataframe tbody tr th:only-of-type {\n        vertical-align: middle;\n    }\n\n    .dataframe tbody tr th {\n        vertical-align: top;\n    }\n\n    .dataframe thead th {\n        text-align: right;\n    }\n</style>\n<table border=\"1\" class=\"dataframe\">\n  <thead>\n    <tr style=\"text-align: right;\">\n      <th></th>\n      <th>country</th>\n      <th>continent</th>\n      <th>year</th>\n      <th>lifeExp</th>\n      <th>pop</th>\n      <th>gdpPercap</th>\n      <th>iso_alpha</th>\n      <th>iso_num</th>\n    </tr>\n  </thead>\n  <tbody>\n    <tr>\n      <th>23</th>\n      <td>Albania</td>\n      <td>Europe</td>\n      <td>2007</td>\n      <td>76.423</td>\n      <td>3600523</td>\n      <td>5937.029526</td>\n      <td>ALB</td>\n      <td>8</td>\n    </tr>\n    <tr>\n      <th>83</th>\n      <td>Austria</td>\n      <td>Europe</td>\n      <td>2007</td>\n      <td>79.829</td>\n      <td>8199783</td>\n      <td>36126.492700</td>\n      <td>AUT</td>\n      <td>40</td>\n    </tr>\n    <tr>\n      <th>119</th>\n      <td>Belgium</td>\n      <td>Europe</td>\n      <td>2007</td>\n      <td>79.441</td>\n      <td>10392226</td>\n      <td>33692.605080</td>\n      <td>BEL</td>\n      <td>56</td>\n    </tr>\n    <tr>\n      <th>155</th>\n      <td>Bosnia and Herzegovina</td>\n      <td>Europe</td>\n      <td>2007</td>\n      <td>74.852</td>\n      <td>4552198</td>\n      <td>7446.298803</td>\n      <td>BIH</td>\n      <td>70</td>\n    </tr>\n    <tr>\n      <th>191</th>\n      <td>Bulgaria</td>\n      <td>Europe</td>\n      <td>2007</td>\n      <td>73.005</td>\n      <td>7322858</td>\n      <td>10680.792820</td>\n      <td>BGR</td>\n      <td>100</td>\n    </tr>\n    <tr>\n      <th>383</th>\n      <td>Croatia</td>\n      <td>Europe</td>\n      <td>2007</td>\n      <td>75.748</td>\n      <td>4493312</td>\n      <td>14619.222720</td>\n      <td>HRV</td>\n      <td>191</td>\n    </tr>\n    <tr>\n      <th>407</th>\n      <td>Czech Republic</td>\n      <td>Europe</td>\n      <td>2007</td>\n      <td>76.486</td>\n      <td>10228744</td>\n      <td>22833.308510</td>\n      <td>CZE</td>\n      <td>203</td>\n    </tr>\n    <tr>\n      <th>419</th>\n      <td>Denmark</td>\n      <td>Europe</td>\n      <td>2007</td>\n      <td>78.332</td>\n      <td>5468120</td>\n      <td>35278.418740</td>\n      <td>DNK</td>\n      <td>208</td>\n    </tr>\n    <tr>\n      <th>527</th>\n      <td>Finland</td>\n      <td>Europe</td>\n      <td>2007</td>\n      <td>79.313</td>\n      <td>5238460</td>\n      <td>33207.084400</td>\n      <td>FIN</td>\n      <td>246</td>\n    </tr>\n    <tr>\n      <th>539</th>\n      <td>France</td>\n      <td>Europe</td>\n      <td>2007</td>\n      <td>80.657</td>\n      <td>61083916</td>\n      <td>30470.016700</td>\n      <td>FRA</td>\n      <td>250</td>\n    </tr>\n    <tr>\n      <th>575</th>\n      <td>Germany</td>\n      <td>Europe</td>\n      <td>2007</td>\n      <td>79.406</td>\n      <td>82400996</td>\n      <td>32170.374420</td>\n      <td>DEU</td>\n      <td>276</td>\n    </tr>\n    <tr>\n      <th>599</th>\n      <td>Greece</td>\n      <td>Europe</td>\n      <td>2007</td>\n      <td>79.483</td>\n      <td>10706290</td>\n      <td>27538.411880</td>\n      <td>GRC</td>\n      <td>300</td>\n    </tr>\n    <tr>\n      <th>683</th>\n      <td>Hungary</td>\n      <td>Europe</td>\n      <td>2007</td>\n      <td>73.338</td>\n      <td>9956108</td>\n      <td>18008.944440</td>\n      <td>HUN</td>\n      <td>348</td>\n    </tr>\n    <tr>\n      <th>695</th>\n      <td>Iceland</td>\n      <td>Europe</td>\n      <td>2007</td>\n      <td>81.757</td>\n      <td>301931</td>\n      <td>36180.789190</td>\n      <td>ISL</td>\n      <td>352</td>\n    </tr>\n    <tr>\n      <th>755</th>\n      <td>Ireland</td>\n      <td>Europe</td>\n      <td>2007</td>\n      <td>78.885</td>\n      <td>4109086</td>\n      <td>40675.996350</td>\n      <td>IRL</td>\n      <td>372</td>\n    </tr>\n    <tr>\n      <th>779</th>\n      <td>Italy</td>\n      <td>Europe</td>\n      <td>2007</td>\n      <td>80.546</td>\n      <td>58147733</td>\n      <td>28569.719700</td>\n      <td>ITA</td>\n      <td>380</td>\n    </tr>\n    <tr>\n      <th>1019</th>\n      <td>Montenegro</td>\n      <td>Europe</td>\n      <td>2007</td>\n      <td>74.543</td>\n      <td>684736</td>\n      <td>9253.896111</td>\n      <td>MNE</td>\n      <td>499</td>\n    </tr>\n    <tr>\n      <th>1091</th>\n      <td>Netherlands</td>\n      <td>Europe</td>\n      <td>2007</td>\n      <td>79.762</td>\n      <td>16570613</td>\n      <td>36797.933320</td>\n      <td>NLD</td>\n      <td>528</td>\n    </tr>\n    <tr>\n      <th>1151</th>\n      <td>Norway</td>\n      <td>Europe</td>\n      <td>2007</td>\n      <td>80.196</td>\n      <td>4627926</td>\n      <td>49357.190170</td>\n      <td>NOR</td>\n      <td>578</td>\n    </tr>\n    <tr>\n      <th>1235</th>\n      <td>Poland</td>\n      <td>Europe</td>\n      <td>2007</td>\n      <td>75.563</td>\n      <td>38518241</td>\n      <td>15389.924680</td>\n      <td>POL</td>\n      <td>616</td>\n    </tr>\n    <tr>\n      <th>1247</th>\n      <td>Portugal</td>\n      <td>Europe</td>\n      <td>2007</td>\n      <td>78.098</td>\n      <td>10642836</td>\n      <td>20509.647770</td>\n      <td>PRT</td>\n      <td>620</td>\n    </tr>\n    <tr>\n      <th>1283</th>\n      <td>Romania</td>\n      <td>Europe</td>\n      <td>2007</td>\n      <td>72.476</td>\n      <td>22276056</td>\n      <td>10808.475610</td>\n      <td>ROU</td>\n      <td>642</td>\n    </tr>\n    <tr>\n      <th>1343</th>\n      <td>Serbia</td>\n      <td>Europe</td>\n      <td>2007</td>\n      <td>74.002</td>\n      <td>10150265</td>\n      <td>9786.534714</td>\n      <td>SRB</td>\n      <td>688</td>\n    </tr>\n    <tr>\n      <th>1379</th>\n      <td>Slovak Republic</td>\n      <td>Europe</td>\n      <td>2007</td>\n      <td>74.663</td>\n      <td>5447502</td>\n      <td>18678.314350</td>\n      <td>SVK</td>\n      <td>703</td>\n    </tr>\n    <tr>\n      <th>1391</th>\n      <td>Slovenia</td>\n      <td>Europe</td>\n      <td>2007</td>\n      <td>77.926</td>\n      <td>2009245</td>\n      <td>25768.257590</td>\n      <td>SVN</td>\n      <td>705</td>\n    </tr>\n    <tr>\n      <th>1427</th>\n      <td>Spain</td>\n      <td>Europe</td>\n      <td>2007</td>\n      <td>80.941</td>\n      <td>40448191</td>\n      <td>28821.063700</td>\n      <td>ESP</td>\n      <td>724</td>\n    </tr>\n    <tr>\n      <th>1475</th>\n      <td>Sweden</td>\n      <td>Europe</td>\n      <td>2007</td>\n      <td>80.884</td>\n      <td>9031088</td>\n      <td>33859.748350</td>\n      <td>SWE</td>\n      <td>752</td>\n    </tr>\n    <tr>\n      <th>1487</th>\n      <td>Switzerland</td>\n      <td>Europe</td>\n      <td>2007</td>\n      <td>81.701</td>\n      <td>7554661</td>\n      <td>37506.419070</td>\n      <td>CHE</td>\n      <td>756</td>\n    </tr>\n    <tr>\n      <th>1583</th>\n      <td>Turkey</td>\n      <td>Europe</td>\n      <td>2007</td>\n      <td>71.777</td>\n      <td>71158647</td>\n      <td>8458.276384</td>\n      <td>TUR</td>\n      <td>792</td>\n    </tr>\n    <tr>\n      <th>1607</th>\n      <td>United Kingdom</td>\n      <td>Europe</td>\n      <td>2007</td>\n      <td>79.425</td>\n      <td>60776238</td>\n      <td>33203.261280</td>\n      <td>GBR</td>\n      <td>826</td>\n    </tr>\n  </tbody>\n</table>\n</div>"
     },
     "execution_count": 9,
     "metadata": {},
     "output_type": "execute_result"
    }
   ],
   "source": [
    "df1"
   ],
   "metadata": {
    "collapsed": false,
    "pycharm": {
     "name": "#%%\n"
    }
   }
  },
  {
   "cell_type": "code",
   "execution_count": 4,
   "outputs": [
    {
     "data": {
      "text/plain": "(1460, 81)"
     },
     "execution_count": 4,
     "metadata": {},
     "output_type": "execute_result"
    }
   ],
   "source": [
    "df.shape"
   ],
   "metadata": {
    "collapsed": false,
    "pycharm": {
     "name": "#%%\n"
    }
   }
  },
  {
   "cell_type": "code",
   "execution_count": 5,
   "outputs": [
    {
     "data": {
      "text/plain": "Index(['Id', 'MSSubClass', 'MSZoning', 'LotFrontage', 'LotArea', 'Street',\n       'Alley', 'LotShape', 'LandContour', 'Utilities', 'LotConfig',\n       'LandSlope', 'Neighborhood', 'Condition1', 'Condition2', 'BldgType',\n       'HouseStyle', 'OverallQual', 'OverallCond', 'YearBuilt', 'YearRemodAdd',\n       'RoofStyle', 'RoofMatl', 'Exterior1st', 'Exterior2nd', 'MasVnrType',\n       'MasVnrArea', 'ExterQual', 'ExterCond', 'Foundation', 'BsmtQual',\n       'BsmtCond', 'BsmtExposure', 'BsmtFinType1', 'BsmtFinSF1',\n       'BsmtFinType2', 'BsmtFinSF2', 'BsmtUnfSF', 'TotalBsmtSF', 'Heating',\n       'HeatingQC', 'CentralAir', 'Electrical', '1stFlrSF', '2ndFlrSF',\n       'LowQualFinSF', 'GrLivArea', 'BsmtFullBath', 'BsmtHalfBath', 'FullBath',\n       'HalfBath', 'BedroomAbvGr', 'KitchenAbvGr', 'KitchenQual',\n       'TotRmsAbvGrd', 'Functional', 'Fireplaces', 'FireplaceQu', 'GarageType',\n       'GarageYrBlt', 'GarageFinish', 'GarageCars', 'GarageArea', 'GarageQual',\n       'GarageCond', 'PavedDrive', 'WoodDeckSF', 'OpenPorchSF',\n       'EnclosedPorch', '3SsnPorch', 'ScreenPorch', 'PoolArea', 'PoolQC',\n       'Fence', 'MiscFeature', 'MiscVal', 'MoSold', 'YrSold', 'SaleType',\n       'SaleCondition', 'SalePrice'],\n      dtype='object')"
     },
     "execution_count": 5,
     "metadata": {},
     "output_type": "execute_result"
    }
   ],
   "source": [
    "df.columns"
   ],
   "metadata": {
    "collapsed": false,
    "pycharm": {
     "name": "#%%\n"
    }
   }
  },
  {
   "cell_type": "code",
   "execution_count": 6,
   "outputs": [
    {
     "data": {
      "text/plain": "             Id  MSZoning  LotFrontage  LotArea  Street  Alley  LotShape  \\\nMSSubClass                                                                 \n20          536       536          437      536     536      5       536   \n30           69        69           63       69      69     12        69   \n40            4         4            3        4       4      1         4   \n45           12        12           12       12      12      1        12   \n50          144       144          128      144     144     24       144   \n60          299       299          230      299     299      2       299   \n70           60        60           55       60      60     16        60   \n75           16        16           15       16      16      3        16   \n80           58        58           38       58      58      0        58   \n85           20        20           14       20      20      0        20   \n90           52        52           47       52      52      2        52   \n120          87        87           67       87      87      4        87   \n160          63        63           55       63      63     15        63   \n180          10        10           10       10      10      0        10   \n190          30        30           27       30      30      6        30   \n\n            LandContour  Utilities  LotConfig  ...  PoolArea  PoolQC  Fence  \\\nMSSubClass                                     ...                            \n20                  536        536        536  ...       536       1    117   \n30                   69         69         69  ...        69       0     15   \n40                    4          4          4  ...         4       0      0   \n45                   12         12         12  ...        12       0      4   \n50                  144        144        144  ...       144       0     44   \n60                  299        299        299  ...       299       3     33   \n70                   60         60         60  ...        60       0     14   \n75                   16         16         16  ...        16       1      5   \n80                   58         58         58  ...        58       2     26   \n85                   20         20         20  ...        20       0      9   \n90                   52         52         52  ...        52       0      3   \n120                  87         87         87  ...        87       0      2   \n160                  63         63         63  ...        63       0      3   \n180                  10         10         10  ...        10       0      2   \n190                  30         30         30  ...        30       0      4   \n\n            MiscFeature  MiscVal  MoSold  YrSold  SaleType  SaleCondition  \\\nMSSubClass                                                                  \n20                   20      536     536     536       536            536   \n30                    5       69      69      69        69             69   \n40                    2        4       4       4         4              4   \n45                    0       12      12      12        12             12   \n50                    9      144     144     144       144            144   \n60                    9      299     299     299       299            299   \n70                    1       60      60      60        60             60   \n75                    0       16      16      16        16             16   \n80                    2       58      58      58        58             58   \n85                    1       20      20      20        20             20   \n90                    3       52      52      52        52             52   \n120                   0       87      87      87        87             87   \n160                   0       63      63      63        63             63   \n180                   0       10      10      10        10             10   \n190                   2       30      30      30        30             30   \n\n            SalePrice  \nMSSubClass             \n20                536  \n30                 69  \n40                  4  \n45                 12  \n50                144  \n60                299  \n70                 60  \n75                 16  \n80                 58  \n85                 20  \n90                 52  \n120                87  \n160                63  \n180                10  \n190                30  \n\n[15 rows x 80 columns]",
      "text/html": "<div>\n<style scoped>\n    .dataframe tbody tr th:only-of-type {\n        vertical-align: middle;\n    }\n\n    .dataframe tbody tr th {\n        vertical-align: top;\n    }\n\n    .dataframe thead th {\n        text-align: right;\n    }\n</style>\n<table border=\"1\" class=\"dataframe\">\n  <thead>\n    <tr style=\"text-align: right;\">\n      <th></th>\n      <th>Id</th>\n      <th>MSZoning</th>\n      <th>LotFrontage</th>\n      <th>LotArea</th>\n      <th>Street</th>\n      <th>Alley</th>\n      <th>LotShape</th>\n      <th>LandContour</th>\n      <th>Utilities</th>\n      <th>LotConfig</th>\n      <th>...</th>\n      <th>PoolArea</th>\n      <th>PoolQC</th>\n      <th>Fence</th>\n      <th>MiscFeature</th>\n      <th>MiscVal</th>\n      <th>MoSold</th>\n      <th>YrSold</th>\n      <th>SaleType</th>\n      <th>SaleCondition</th>\n      <th>SalePrice</th>\n    </tr>\n    <tr>\n      <th>MSSubClass</th>\n      <th></th>\n      <th></th>\n      <th></th>\n      <th></th>\n      <th></th>\n      <th></th>\n      <th></th>\n      <th></th>\n      <th></th>\n      <th></th>\n      <th></th>\n      <th></th>\n      <th></th>\n      <th></th>\n      <th></th>\n      <th></th>\n      <th></th>\n      <th></th>\n      <th></th>\n      <th></th>\n      <th></th>\n    </tr>\n  </thead>\n  <tbody>\n    <tr>\n      <th>20</th>\n      <td>536</td>\n      <td>536</td>\n      <td>437</td>\n      <td>536</td>\n      <td>536</td>\n      <td>5</td>\n      <td>536</td>\n      <td>536</td>\n      <td>536</td>\n      <td>536</td>\n      <td>...</td>\n      <td>536</td>\n      <td>1</td>\n      <td>117</td>\n      <td>20</td>\n      <td>536</td>\n      <td>536</td>\n      <td>536</td>\n      <td>536</td>\n      <td>536</td>\n      <td>536</td>\n    </tr>\n    <tr>\n      <th>30</th>\n      <td>69</td>\n      <td>69</td>\n      <td>63</td>\n      <td>69</td>\n      <td>69</td>\n      <td>12</td>\n      <td>69</td>\n      <td>69</td>\n      <td>69</td>\n      <td>69</td>\n      <td>...</td>\n      <td>69</td>\n      <td>0</td>\n      <td>15</td>\n      <td>5</td>\n      <td>69</td>\n      <td>69</td>\n      <td>69</td>\n      <td>69</td>\n      <td>69</td>\n      <td>69</td>\n    </tr>\n    <tr>\n      <th>40</th>\n      <td>4</td>\n      <td>4</td>\n      <td>3</td>\n      <td>4</td>\n      <td>4</td>\n      <td>1</td>\n      <td>4</td>\n      <td>4</td>\n      <td>4</td>\n      <td>4</td>\n      <td>...</td>\n      <td>4</td>\n      <td>0</td>\n      <td>0</td>\n      <td>2</td>\n      <td>4</td>\n      <td>4</td>\n      <td>4</td>\n      <td>4</td>\n      <td>4</td>\n      <td>4</td>\n    </tr>\n    <tr>\n      <th>45</th>\n      <td>12</td>\n      <td>12</td>\n      <td>12</td>\n      <td>12</td>\n      <td>12</td>\n      <td>1</td>\n      <td>12</td>\n      <td>12</td>\n      <td>12</td>\n      <td>12</td>\n      <td>...</td>\n      <td>12</td>\n      <td>0</td>\n      <td>4</td>\n      <td>0</td>\n      <td>12</td>\n      <td>12</td>\n      <td>12</td>\n      <td>12</td>\n      <td>12</td>\n      <td>12</td>\n    </tr>\n    <tr>\n      <th>50</th>\n      <td>144</td>\n      <td>144</td>\n      <td>128</td>\n      <td>144</td>\n      <td>144</td>\n      <td>24</td>\n      <td>144</td>\n      <td>144</td>\n      <td>144</td>\n      <td>144</td>\n      <td>...</td>\n      <td>144</td>\n      <td>0</td>\n      <td>44</td>\n      <td>9</td>\n      <td>144</td>\n      <td>144</td>\n      <td>144</td>\n      <td>144</td>\n      <td>144</td>\n      <td>144</td>\n    </tr>\n    <tr>\n      <th>60</th>\n      <td>299</td>\n      <td>299</td>\n      <td>230</td>\n      <td>299</td>\n      <td>299</td>\n      <td>2</td>\n      <td>299</td>\n      <td>299</td>\n      <td>299</td>\n      <td>299</td>\n      <td>...</td>\n      <td>299</td>\n      <td>3</td>\n      <td>33</td>\n      <td>9</td>\n      <td>299</td>\n      <td>299</td>\n      <td>299</td>\n      <td>299</td>\n      <td>299</td>\n      <td>299</td>\n    </tr>\n    <tr>\n      <th>70</th>\n      <td>60</td>\n      <td>60</td>\n      <td>55</td>\n      <td>60</td>\n      <td>60</td>\n      <td>16</td>\n      <td>60</td>\n      <td>60</td>\n      <td>60</td>\n      <td>60</td>\n      <td>...</td>\n      <td>60</td>\n      <td>0</td>\n      <td>14</td>\n      <td>1</td>\n      <td>60</td>\n      <td>60</td>\n      <td>60</td>\n      <td>60</td>\n      <td>60</td>\n      <td>60</td>\n    </tr>\n    <tr>\n      <th>75</th>\n      <td>16</td>\n      <td>16</td>\n      <td>15</td>\n      <td>16</td>\n      <td>16</td>\n      <td>3</td>\n      <td>16</td>\n      <td>16</td>\n      <td>16</td>\n      <td>16</td>\n      <td>...</td>\n      <td>16</td>\n      <td>1</td>\n      <td>5</td>\n      <td>0</td>\n      <td>16</td>\n      <td>16</td>\n      <td>16</td>\n      <td>16</td>\n      <td>16</td>\n      <td>16</td>\n    </tr>\n    <tr>\n      <th>80</th>\n      <td>58</td>\n      <td>58</td>\n      <td>38</td>\n      <td>58</td>\n      <td>58</td>\n      <td>0</td>\n      <td>58</td>\n      <td>58</td>\n      <td>58</td>\n      <td>58</td>\n      <td>...</td>\n      <td>58</td>\n      <td>2</td>\n      <td>26</td>\n      <td>2</td>\n      <td>58</td>\n      <td>58</td>\n      <td>58</td>\n      <td>58</td>\n      <td>58</td>\n      <td>58</td>\n    </tr>\n    <tr>\n      <th>85</th>\n      <td>20</td>\n      <td>20</td>\n      <td>14</td>\n      <td>20</td>\n      <td>20</td>\n      <td>0</td>\n      <td>20</td>\n      <td>20</td>\n      <td>20</td>\n      <td>20</td>\n      <td>...</td>\n      <td>20</td>\n      <td>0</td>\n      <td>9</td>\n      <td>1</td>\n      <td>20</td>\n      <td>20</td>\n      <td>20</td>\n      <td>20</td>\n      <td>20</td>\n      <td>20</td>\n    </tr>\n    <tr>\n      <th>90</th>\n      <td>52</td>\n      <td>52</td>\n      <td>47</td>\n      <td>52</td>\n      <td>52</td>\n      <td>2</td>\n      <td>52</td>\n      <td>52</td>\n      <td>52</td>\n      <td>52</td>\n      <td>...</td>\n      <td>52</td>\n      <td>0</td>\n      <td>3</td>\n      <td>3</td>\n      <td>52</td>\n      <td>52</td>\n      <td>52</td>\n      <td>52</td>\n      <td>52</td>\n      <td>52</td>\n    </tr>\n    <tr>\n      <th>120</th>\n      <td>87</td>\n      <td>87</td>\n      <td>67</td>\n      <td>87</td>\n      <td>87</td>\n      <td>4</td>\n      <td>87</td>\n      <td>87</td>\n      <td>87</td>\n      <td>87</td>\n      <td>...</td>\n      <td>87</td>\n      <td>0</td>\n      <td>2</td>\n      <td>0</td>\n      <td>87</td>\n      <td>87</td>\n      <td>87</td>\n      <td>87</td>\n      <td>87</td>\n      <td>87</td>\n    </tr>\n    <tr>\n      <th>160</th>\n      <td>63</td>\n      <td>63</td>\n      <td>55</td>\n      <td>63</td>\n      <td>63</td>\n      <td>15</td>\n      <td>63</td>\n      <td>63</td>\n      <td>63</td>\n      <td>63</td>\n      <td>...</td>\n      <td>63</td>\n      <td>0</td>\n      <td>3</td>\n      <td>0</td>\n      <td>63</td>\n      <td>63</td>\n      <td>63</td>\n      <td>63</td>\n      <td>63</td>\n      <td>63</td>\n    </tr>\n    <tr>\n      <th>180</th>\n      <td>10</td>\n      <td>10</td>\n      <td>10</td>\n      <td>10</td>\n      <td>10</td>\n      <td>0</td>\n      <td>10</td>\n      <td>10</td>\n      <td>10</td>\n      <td>10</td>\n      <td>...</td>\n      <td>10</td>\n      <td>0</td>\n      <td>2</td>\n      <td>0</td>\n      <td>10</td>\n      <td>10</td>\n      <td>10</td>\n      <td>10</td>\n      <td>10</td>\n      <td>10</td>\n    </tr>\n    <tr>\n      <th>190</th>\n      <td>30</td>\n      <td>30</td>\n      <td>27</td>\n      <td>30</td>\n      <td>30</td>\n      <td>6</td>\n      <td>30</td>\n      <td>30</td>\n      <td>30</td>\n      <td>30</td>\n      <td>...</td>\n      <td>30</td>\n      <td>0</td>\n      <td>4</td>\n      <td>2</td>\n      <td>30</td>\n      <td>30</td>\n      <td>30</td>\n      <td>30</td>\n      <td>30</td>\n      <td>30</td>\n    </tr>\n  </tbody>\n</table>\n<p>15 rows × 80 columns</p>\n</div>"
     },
     "execution_count": 6,
     "metadata": {},
     "output_type": "execute_result"
    }
   ],
   "source": [
    "df.groupby('MSSubClass').count()"
   ],
   "metadata": {
    "collapsed": false,
    "pycharm": {
     "name": "#%%\n"
    }
   }
  },
  {
   "cell_type": "code",
   "execution_count": 22,
   "outputs": [
    {
     "name": "stdout",
     "output_type": "stream",
     "text": [
      "70\n"
     ]
    }
   ],
   "source": [
    "y=df.groupby('MSSubClass')\n",
    "#df.unique 是 ndarray\n",
    "print(df['MSSubClass'].unique()[2])"
   ],
   "metadata": {
    "collapsed": false,
    "pycharm": {
     "name": "#%%\n"
    }
   }
  },
  {
   "cell_type": "code",
   "execution_count": 17,
   "outputs": [
    {
     "data": {
      "text/plain": "        Id  MSSubClass MSZoning  LotFrontage  LotArea Street Alley LotShape  \\\n5        6          50       RL         85.0    14115   Pave   NaN      IR1   \n8        9          50       RM         51.0     6120   Pave   NaN      Reg   \n46      47          50       RL         48.0    12822   Pave   NaN      IR1   \n51      52          50       RM         52.0     6240   Pave   NaN      Reg   \n69      70          50       RL         81.0    15593   Pave   NaN      Reg   \n...    ...         ...      ...          ...      ...    ...   ...      ...   \n1404  1405          50       RL         60.0    10410   Pave  Grvl      Reg   \n1411  1412          50       RL         80.0     9600   Pave   NaN      Reg   \n1414  1415          50       RL         64.0    13053   Pave  Pave      Reg   \n1427  1428          50       RL         60.0    10930   Pave  Grvl      Reg   \n1448  1449          50       RL         70.0    11767   Pave   NaN      Reg   \n\n     LandContour Utilities  ... PoolArea PoolQC  Fence MiscFeature MiscVal  \\\n5            Lvl    AllPub  ...        0    NaN  MnPrv        Shed     700   \n8            Lvl    AllPub  ...        0    NaN    NaN         NaN       0   \n46           Lvl    AllPub  ...        0    NaN    NaN         NaN       0   \n51           Lvl    AllPub  ...        0    NaN  MnPrv        Shed     400   \n69           Lvl    AllPub  ...        0    NaN    NaN         NaN       0   \n...          ...       ...  ...      ...    ...    ...         ...     ...   \n1404         Lvl    AllPub  ...        0    NaN  MnPrv         NaN       0   \n1411         Lvl    AllPub  ...        0    NaN  MnPrv         NaN       0   \n1414         Bnk    AllPub  ...        0    NaN    NaN         NaN       0   \n1427         Bnk    AllPub  ...        0    NaN    NaN         NaN       0   \n1448         Lvl    AllPub  ...        0    NaN   GdWo         NaN       0   \n\n     MoSold YrSold  SaleType  SaleCondition  SalePrice  \n5        10   2009        WD         Normal     143000  \n8         4   2008        WD        Abnorml     129900  \n46        8   2009        WD        Abnorml     239686  \n51        9   2006        WD         Normal     114500  \n69        7   2006        WD         Normal     225000  \n...     ...    ...       ...            ...        ...  \n1404      1   2006        WD         Family     105000  \n1411      9   2009        WD         Normal     140000  \n1414      6   2008        WD         Normal     207000  \n1427      4   2008        WD         Normal     140000  \n1448      5   2007        WD         Normal     112000  \n\n[144 rows x 81 columns]",
      "text/html": "<div>\n<style scoped>\n    .dataframe tbody tr th:only-of-type {\n        vertical-align: middle;\n    }\n\n    .dataframe tbody tr th {\n        vertical-align: top;\n    }\n\n    .dataframe thead th {\n        text-align: right;\n    }\n</style>\n<table border=\"1\" class=\"dataframe\">\n  <thead>\n    <tr style=\"text-align: right;\">\n      <th></th>\n      <th>Id</th>\n      <th>MSSubClass</th>\n      <th>MSZoning</th>\n      <th>LotFrontage</th>\n      <th>LotArea</th>\n      <th>Street</th>\n      <th>Alley</th>\n      <th>LotShape</th>\n      <th>LandContour</th>\n      <th>Utilities</th>\n      <th>...</th>\n      <th>PoolArea</th>\n      <th>PoolQC</th>\n      <th>Fence</th>\n      <th>MiscFeature</th>\n      <th>MiscVal</th>\n      <th>MoSold</th>\n      <th>YrSold</th>\n      <th>SaleType</th>\n      <th>SaleCondition</th>\n      <th>SalePrice</th>\n    </tr>\n  </thead>\n  <tbody>\n    <tr>\n      <th>5</th>\n      <td>6</td>\n      <td>50</td>\n      <td>RL</td>\n      <td>85.0</td>\n      <td>14115</td>\n      <td>Pave</td>\n      <td>NaN</td>\n      <td>IR1</td>\n      <td>Lvl</td>\n      <td>AllPub</td>\n      <td>...</td>\n      <td>0</td>\n      <td>NaN</td>\n      <td>MnPrv</td>\n      <td>Shed</td>\n      <td>700</td>\n      <td>10</td>\n      <td>2009</td>\n      <td>WD</td>\n      <td>Normal</td>\n      <td>143000</td>\n    </tr>\n    <tr>\n      <th>8</th>\n      <td>9</td>\n      <td>50</td>\n      <td>RM</td>\n      <td>51.0</td>\n      <td>6120</td>\n      <td>Pave</td>\n      <td>NaN</td>\n      <td>Reg</td>\n      <td>Lvl</td>\n      <td>AllPub</td>\n      <td>...</td>\n      <td>0</td>\n      <td>NaN</td>\n      <td>NaN</td>\n      <td>NaN</td>\n      <td>0</td>\n      <td>4</td>\n      <td>2008</td>\n      <td>WD</td>\n      <td>Abnorml</td>\n      <td>129900</td>\n    </tr>\n    <tr>\n      <th>46</th>\n      <td>47</td>\n      <td>50</td>\n      <td>RL</td>\n      <td>48.0</td>\n      <td>12822</td>\n      <td>Pave</td>\n      <td>NaN</td>\n      <td>IR1</td>\n      <td>Lvl</td>\n      <td>AllPub</td>\n      <td>...</td>\n      <td>0</td>\n      <td>NaN</td>\n      <td>NaN</td>\n      <td>NaN</td>\n      <td>0</td>\n      <td>8</td>\n      <td>2009</td>\n      <td>WD</td>\n      <td>Abnorml</td>\n      <td>239686</td>\n    </tr>\n    <tr>\n      <th>51</th>\n      <td>52</td>\n      <td>50</td>\n      <td>RM</td>\n      <td>52.0</td>\n      <td>6240</td>\n      <td>Pave</td>\n      <td>NaN</td>\n      <td>Reg</td>\n      <td>Lvl</td>\n      <td>AllPub</td>\n      <td>...</td>\n      <td>0</td>\n      <td>NaN</td>\n      <td>MnPrv</td>\n      <td>Shed</td>\n      <td>400</td>\n      <td>9</td>\n      <td>2006</td>\n      <td>WD</td>\n      <td>Normal</td>\n      <td>114500</td>\n    </tr>\n    <tr>\n      <th>69</th>\n      <td>70</td>\n      <td>50</td>\n      <td>RL</td>\n      <td>81.0</td>\n      <td>15593</td>\n      <td>Pave</td>\n      <td>NaN</td>\n      <td>Reg</td>\n      <td>Lvl</td>\n      <td>AllPub</td>\n      <td>...</td>\n      <td>0</td>\n      <td>NaN</td>\n      <td>NaN</td>\n      <td>NaN</td>\n      <td>0</td>\n      <td>7</td>\n      <td>2006</td>\n      <td>WD</td>\n      <td>Normal</td>\n      <td>225000</td>\n    </tr>\n    <tr>\n      <th>...</th>\n      <td>...</td>\n      <td>...</td>\n      <td>...</td>\n      <td>...</td>\n      <td>...</td>\n      <td>...</td>\n      <td>...</td>\n      <td>...</td>\n      <td>...</td>\n      <td>...</td>\n      <td>...</td>\n      <td>...</td>\n      <td>...</td>\n      <td>...</td>\n      <td>...</td>\n      <td>...</td>\n      <td>...</td>\n      <td>...</td>\n      <td>...</td>\n      <td>...</td>\n      <td>...</td>\n    </tr>\n    <tr>\n      <th>1404</th>\n      <td>1405</td>\n      <td>50</td>\n      <td>RL</td>\n      <td>60.0</td>\n      <td>10410</td>\n      <td>Pave</td>\n      <td>Grvl</td>\n      <td>Reg</td>\n      <td>Lvl</td>\n      <td>AllPub</td>\n      <td>...</td>\n      <td>0</td>\n      <td>NaN</td>\n      <td>MnPrv</td>\n      <td>NaN</td>\n      <td>0</td>\n      <td>1</td>\n      <td>2006</td>\n      <td>WD</td>\n      <td>Family</td>\n      <td>105000</td>\n    </tr>\n    <tr>\n      <th>1411</th>\n      <td>1412</td>\n      <td>50</td>\n      <td>RL</td>\n      <td>80.0</td>\n      <td>9600</td>\n      <td>Pave</td>\n      <td>NaN</td>\n      <td>Reg</td>\n      <td>Lvl</td>\n      <td>AllPub</td>\n      <td>...</td>\n      <td>0</td>\n      <td>NaN</td>\n      <td>MnPrv</td>\n      <td>NaN</td>\n      <td>0</td>\n      <td>9</td>\n      <td>2009</td>\n      <td>WD</td>\n      <td>Normal</td>\n      <td>140000</td>\n    </tr>\n    <tr>\n      <th>1414</th>\n      <td>1415</td>\n      <td>50</td>\n      <td>RL</td>\n      <td>64.0</td>\n      <td>13053</td>\n      <td>Pave</td>\n      <td>Pave</td>\n      <td>Reg</td>\n      <td>Bnk</td>\n      <td>AllPub</td>\n      <td>...</td>\n      <td>0</td>\n      <td>NaN</td>\n      <td>NaN</td>\n      <td>NaN</td>\n      <td>0</td>\n      <td>6</td>\n      <td>2008</td>\n      <td>WD</td>\n      <td>Normal</td>\n      <td>207000</td>\n    </tr>\n    <tr>\n      <th>1427</th>\n      <td>1428</td>\n      <td>50</td>\n      <td>RL</td>\n      <td>60.0</td>\n      <td>10930</td>\n      <td>Pave</td>\n      <td>Grvl</td>\n      <td>Reg</td>\n      <td>Bnk</td>\n      <td>AllPub</td>\n      <td>...</td>\n      <td>0</td>\n      <td>NaN</td>\n      <td>NaN</td>\n      <td>NaN</td>\n      <td>0</td>\n      <td>4</td>\n      <td>2008</td>\n      <td>WD</td>\n      <td>Normal</td>\n      <td>140000</td>\n    </tr>\n    <tr>\n      <th>1448</th>\n      <td>1449</td>\n      <td>50</td>\n      <td>RL</td>\n      <td>70.0</td>\n      <td>11767</td>\n      <td>Pave</td>\n      <td>NaN</td>\n      <td>Reg</td>\n      <td>Lvl</td>\n      <td>AllPub</td>\n      <td>...</td>\n      <td>0</td>\n      <td>NaN</td>\n      <td>GdWo</td>\n      <td>NaN</td>\n      <td>0</td>\n      <td>5</td>\n      <td>2007</td>\n      <td>WD</td>\n      <td>Normal</td>\n      <td>112000</td>\n    </tr>\n  </tbody>\n</table>\n<p>144 rows × 81 columns</p>\n</div>"
     },
     "execution_count": 17,
     "metadata": {},
     "output_type": "execute_result"
    }
   ],
   "source": [
    "y.get_group(50)"
   ],
   "metadata": {
    "collapsed": false,
    "pycharm": {
     "name": "#%%\n"
    }
   }
  },
  {
   "cell_type": "code",
   "execution_count": 67,
   "outputs": [
    {
     "ename": "ValueError",
     "evalue": "cannot insert LotConfig, already exists",
     "output_type": "error",
     "traceback": [
      "\u001B[1;31m---------------------------------------------------------------------------\u001B[0m",
      "\u001B[1;31mValueError\u001B[0m                                Traceback (most recent call last)",
      "Input \u001B[1;32mIn [67]\u001B[0m, in \u001B[0;36m<cell line: 1>\u001B[1;34m()\u001B[0m\n\u001B[1;32m----> 1\u001B[0m x\u001B[38;5;241m=\u001B[39m\u001B[43mdf\u001B[49m\u001B[38;5;241;43m.\u001B[39;49m\u001B[43mgroupby\u001B[49m\u001B[43m(\u001B[49m\u001B[38;5;124;43m'\u001B[39;49m\u001B[38;5;124;43mMSSubClass\u001B[39;49m\u001B[38;5;124;43m'\u001B[39;49m\u001B[43m)\u001B[49m\u001B[43m[\u001B[49m\u001B[38;5;124;43m'\u001B[39;49m\u001B[38;5;124;43mLotConfig\u001B[39;49m\u001B[38;5;124;43m'\u001B[39;49m\u001B[43m]\u001B[49m\u001B[38;5;241;43m.\u001B[39;49m\u001B[43mvalue_counts\u001B[49m\u001B[43m(\u001B[49m\u001B[43m)\u001B[49m\u001B[38;5;241;43m.\u001B[39;49m\u001B[43mto_frame\u001B[49m\u001B[43m(\u001B[49m\u001B[43m)\u001B[49m\u001B[38;5;241;43m.\u001B[39;49m\u001B[43mreset_index\u001B[49m\u001B[43m(\u001B[49m\u001B[43m)\u001B[49m\n",
      "File \u001B[1;32m~\\anaconda3\\envs\\dash_app\\lib\\site-packages\\pandas\\util\\_decorators.py:311\u001B[0m, in \u001B[0;36mdeprecate_nonkeyword_arguments.<locals>.decorate.<locals>.wrapper\u001B[1;34m(*args, **kwargs)\u001B[0m\n\u001B[0;32m    305\u001B[0m \u001B[38;5;28;01mif\u001B[39;00m \u001B[38;5;28mlen\u001B[39m(args) \u001B[38;5;241m>\u001B[39m num_allow_args:\n\u001B[0;32m    306\u001B[0m     warnings\u001B[38;5;241m.\u001B[39mwarn(\n\u001B[0;32m    307\u001B[0m         msg\u001B[38;5;241m.\u001B[39mformat(arguments\u001B[38;5;241m=\u001B[39marguments),\n\u001B[0;32m    308\u001B[0m         \u001B[38;5;167;01mFutureWarning\u001B[39;00m,\n\u001B[0;32m    309\u001B[0m         stacklevel\u001B[38;5;241m=\u001B[39mstacklevel,\n\u001B[0;32m    310\u001B[0m     )\n\u001B[1;32m--> 311\u001B[0m \u001B[38;5;28;01mreturn\u001B[39;00m \u001B[43mfunc\u001B[49m\u001B[43m(\u001B[49m\u001B[38;5;241;43m*\u001B[39;49m\u001B[43margs\u001B[49m\u001B[43m,\u001B[49m\u001B[43m \u001B[49m\u001B[38;5;241;43m*\u001B[39;49m\u001B[38;5;241;43m*\u001B[39;49m\u001B[43mkwargs\u001B[49m\u001B[43m)\u001B[49m\n",
      "File \u001B[1;32m~\\anaconda3\\envs\\dash_app\\lib\\site-packages\\pandas\\core\\frame.py:5839\u001B[0m, in \u001B[0;36mDataFrame.reset_index\u001B[1;34m(self, level, drop, inplace, col_level, col_fill)\u001B[0m\n\u001B[0;32m   5833\u001B[0m         \u001B[38;5;28;01mif\u001B[39;00m lab \u001B[38;5;129;01mis\u001B[39;00m \u001B[38;5;129;01mnot\u001B[39;00m \u001B[38;5;28;01mNone\u001B[39;00m:\n\u001B[0;32m   5834\u001B[0m             \u001B[38;5;66;03m# if we have the codes, extract the values with a mask\u001B[39;00m\n\u001B[0;32m   5835\u001B[0m             level_values \u001B[38;5;241m=\u001B[39m algorithms\u001B[38;5;241m.\u001B[39mtake(\n\u001B[0;32m   5836\u001B[0m                 level_values, lab, allow_fill\u001B[38;5;241m=\u001B[39m\u001B[38;5;28;01mTrue\u001B[39;00m, fill_value\u001B[38;5;241m=\u001B[39mlev\u001B[38;5;241m.\u001B[39m_na_value\n\u001B[0;32m   5837\u001B[0m             )\n\u001B[1;32m-> 5839\u001B[0m         \u001B[43mnew_obj\u001B[49m\u001B[38;5;241;43m.\u001B[39;49m\u001B[43minsert\u001B[49m\u001B[43m(\u001B[49m\u001B[38;5;241;43m0\u001B[39;49m\u001B[43m,\u001B[49m\u001B[43m \u001B[49m\u001B[43mname\u001B[49m\u001B[43m,\u001B[49m\u001B[43m \u001B[49m\u001B[43mlevel_values\u001B[49m\u001B[43m)\u001B[49m\n\u001B[0;32m   5841\u001B[0m new_obj\u001B[38;5;241m.\u001B[39mindex \u001B[38;5;241m=\u001B[39m new_index\n\u001B[0;32m   5842\u001B[0m \u001B[38;5;28;01mif\u001B[39;00m \u001B[38;5;129;01mnot\u001B[39;00m inplace:\n",
      "File \u001B[1;32m~\\anaconda3\\envs\\dash_app\\lib\\site-packages\\pandas\\core\\frame.py:4440\u001B[0m, in \u001B[0;36mDataFrame.insert\u001B[1;34m(self, loc, column, value, allow_duplicates)\u001B[0m\n\u001B[0;32m   4434\u001B[0m     \u001B[38;5;28;01mraise\u001B[39;00m \u001B[38;5;167;01mValueError\u001B[39;00m(\n\u001B[0;32m   4435\u001B[0m         \u001B[38;5;124m\"\u001B[39m\u001B[38;5;124mCannot specify \u001B[39m\u001B[38;5;124m'\u001B[39m\u001B[38;5;124mallow_duplicates=True\u001B[39m\u001B[38;5;124m'\u001B[39m\u001B[38;5;124m when \u001B[39m\u001B[38;5;124m\"\u001B[39m\n\u001B[0;32m   4436\u001B[0m         \u001B[38;5;124m\"\u001B[39m\u001B[38;5;124m'\u001B[39m\u001B[38;5;124mself.flags.allows_duplicate_labels\u001B[39m\u001B[38;5;124m'\u001B[39m\u001B[38;5;124m is False.\u001B[39m\u001B[38;5;124m\"\u001B[39m\n\u001B[0;32m   4437\u001B[0m     )\n\u001B[0;32m   4438\u001B[0m \u001B[38;5;28;01mif\u001B[39;00m \u001B[38;5;129;01mnot\u001B[39;00m allow_duplicates \u001B[38;5;129;01mand\u001B[39;00m column \u001B[38;5;129;01min\u001B[39;00m \u001B[38;5;28mself\u001B[39m\u001B[38;5;241m.\u001B[39mcolumns:\n\u001B[0;32m   4439\u001B[0m     \u001B[38;5;66;03m# Should this be a different kind of error??\u001B[39;00m\n\u001B[1;32m-> 4440\u001B[0m     \u001B[38;5;28;01mraise\u001B[39;00m \u001B[38;5;167;01mValueError\u001B[39;00m(\u001B[38;5;124mf\u001B[39m\u001B[38;5;124m\"\u001B[39m\u001B[38;5;124mcannot insert \u001B[39m\u001B[38;5;132;01m{\u001B[39;00mcolumn\u001B[38;5;132;01m}\u001B[39;00m\u001B[38;5;124m, already exists\u001B[39m\u001B[38;5;124m\"\u001B[39m)\n\u001B[0;32m   4441\u001B[0m \u001B[38;5;28;01mif\u001B[39;00m \u001B[38;5;129;01mnot\u001B[39;00m \u001B[38;5;28misinstance\u001B[39m(loc, \u001B[38;5;28mint\u001B[39m):\n\u001B[0;32m   4442\u001B[0m     \u001B[38;5;28;01mraise\u001B[39;00m \u001B[38;5;167;01mTypeError\u001B[39;00m(\u001B[38;5;124m\"\u001B[39m\u001B[38;5;124mloc must be int\u001B[39m\u001B[38;5;124m\"\u001B[39m)\n",
      "\u001B[1;31mValueError\u001B[0m: cannot insert LotConfig, already exists"
     ]
    }
   ],
   "source": [
    "x=df.groupby('MSSubClass')['LotConfig',''].value_counts().to_frame().reset_index()"
   ],
   "metadata": {
    "collapsed": false,
    "pycharm": {
     "name": "#%%\n"
    }
   }
  },
  {
   "cell_type": "code",
   "execution_count": 73,
   "outputs": [
    {
     "data": {
      "text/plain": "pandas.core.frame.DataFrame"
     },
     "execution_count": 73,
     "metadata": {},
     "output_type": "execute_result"
    }
   ],
   "source": [
    "type(df.groupby('MSSubClass')['LotConfig'].value_counts().to_frame())"
   ],
   "metadata": {
    "collapsed": false,
    "pycharm": {
     "name": "#%%\n"
    }
   }
  },
  {
   "cell_type": "code",
   "execution_count": 89,
   "outputs": [
    {
     "data": {
      "text/plain": "numpy.ndarray"
     },
     "execution_count": 89,
     "metadata": {},
     "output_type": "execute_result"
    }
   ],
   "source": [
    "type(df['MSSubClass'].unique())"
   ],
   "metadata": {
    "collapsed": false,
    "pycharm": {
     "name": "#%%\n"
    }
   }
  },
  {
   "cell_type": "code",
   "execution_count": 82,
   "outputs": [
    {
     "name": "stderr",
     "output_type": "stream",
     "text": [
      "C:\\Users\\allenwang\\AppData\\Local\\Temp\\ipykernel_20996\\81640065.py:1: FutureWarning: Indexing with multiple keys (implicitly converted to a tuple of keys) will be deprecated, use a list instead.\n",
      "  df.groupby('MSSubClass')['LotConfig','LandContour'].value_counts().\\\n"
     ]
    },
    {
     "data": {
      "text/plain": "    MSSubClass LotConfig LandContour    0\n0           20    Inside         Lvl  343\n1           20    Corner         Lvl   93\n2           20   CulDSac         Lvl   34\n3           20       FR2         Lvl   18\n4           20    Inside         HLS   15\n..         ...       ...         ...  ...\n95         190    Inside         Bnk    4\n96         190    Corner         Lvl    4\n97         190    Inside         Low    1\n98         190    Corner         HLS    1\n99         190    Corner         Bnk    1\n\n[100 rows x 4 columns]",
      "text/html": "<div>\n<style scoped>\n    .dataframe tbody tr th:only-of-type {\n        vertical-align: middle;\n    }\n\n    .dataframe tbody tr th {\n        vertical-align: top;\n    }\n\n    .dataframe thead th {\n        text-align: right;\n    }\n</style>\n<table border=\"1\" class=\"dataframe\">\n  <thead>\n    <tr style=\"text-align: right;\">\n      <th></th>\n      <th>MSSubClass</th>\n      <th>LotConfig</th>\n      <th>LandContour</th>\n      <th>0</th>\n    </tr>\n  </thead>\n  <tbody>\n    <tr>\n      <th>0</th>\n      <td>20</td>\n      <td>Inside</td>\n      <td>Lvl</td>\n      <td>343</td>\n    </tr>\n    <tr>\n      <th>1</th>\n      <td>20</td>\n      <td>Corner</td>\n      <td>Lvl</td>\n      <td>93</td>\n    </tr>\n    <tr>\n      <th>2</th>\n      <td>20</td>\n      <td>CulDSac</td>\n      <td>Lvl</td>\n      <td>34</td>\n    </tr>\n    <tr>\n      <th>3</th>\n      <td>20</td>\n      <td>FR2</td>\n      <td>Lvl</td>\n      <td>18</td>\n    </tr>\n    <tr>\n      <th>4</th>\n      <td>20</td>\n      <td>Inside</td>\n      <td>HLS</td>\n      <td>15</td>\n    </tr>\n    <tr>\n      <th>...</th>\n      <td>...</td>\n      <td>...</td>\n      <td>...</td>\n      <td>...</td>\n    </tr>\n    <tr>\n      <th>95</th>\n      <td>190</td>\n      <td>Inside</td>\n      <td>Bnk</td>\n      <td>4</td>\n    </tr>\n    <tr>\n      <th>96</th>\n      <td>190</td>\n      <td>Corner</td>\n      <td>Lvl</td>\n      <td>4</td>\n    </tr>\n    <tr>\n      <th>97</th>\n      <td>190</td>\n      <td>Inside</td>\n      <td>Low</td>\n      <td>1</td>\n    </tr>\n    <tr>\n      <th>98</th>\n      <td>190</td>\n      <td>Corner</td>\n      <td>HLS</td>\n      <td>1</td>\n    </tr>\n    <tr>\n      <th>99</th>\n      <td>190</td>\n      <td>Corner</td>\n      <td>Bnk</td>\n      <td>1</td>\n    </tr>\n  </tbody>\n</table>\n<p>100 rows × 4 columns</p>\n</div>"
     },
     "execution_count": 82,
     "metadata": {},
     "output_type": "execute_result"
    }
   ],
   "source": [
    "df.groupby('MSSubClass')['LotConfig','LandContour'].value_counts().\\\n",
    "    to_frame().\\\n",
    "    rename(columns={'LotConfig':'Lotcount'}).\\\n",
    "    reset_index()"
   ],
   "metadata": {
    "collapsed": false,
    "pycharm": {
     "name": "#%%\n"
    }
   }
  },
  {
   "cell_type": "code",
   "execution_count": 87,
   "outputs": [
    {
     "data": {
      "text/plain": "    MSSubClass          Id  LotFrontage       LotArea  OverallQual  \\\n0           20  723.998134    77.464531  11755.509328     6.033582   \n1           30  747.826087    60.349206   7888.492754     4.507246   \n2           40  725.000000    50.000000  12559.750000     5.750000   \n3           45  422.000000    55.000000   6949.000000     5.500000   \n4           50  751.194444    64.000000  10479.145833     5.402778   \n5           60  708.882943    81.056522  12058.076923     7.060201   \n6           70  771.466667    65.654545  10120.166667     6.116667   \n7           75  604.875000    77.533333  11631.750000     6.625000   \n8           80  792.155172    80.026316  10895.482759     5.965517   \n9           85  828.200000    71.571429   9317.450000     5.450000   \n10          90  792.288462    71.595745   9720.057692     4.961538   \n11         120  739.505747    45.671642   5383.954023     7.057471   \n12         160  745.730159    27.945455   2699.333333     6.142857   \n13         180  798.000000    25.200000   2247.400000     4.600000   \n14         190  660.100000    66.666667  16111.233333     4.966667   \n\n    OverallCond    YearBuilt  YearRemodAdd  MasVnrArea  BsmtFinSF1  ...  \\\n0      5.550373  1977.960821   1985.878731  104.355263  562.986940  ...   \n1      5.753623  1926.637681   1968.869565   12.130435  187.826087  ...   \n2      6.500000  1946.000000   1973.250000    0.000000  500.750000  ...   \n3      6.166667  1934.583333   1964.000000    0.000000  103.000000  ...   \n4      6.013889  1935.833333   1969.854167   34.409722  226.666667  ...   \n5      5.297659  1994.494983   1996.331104  181.148649  440.525084  ...   \n6      6.633333  1918.833333   1977.866667    3.733333  182.000000  ...   \n7      6.250000  1912.625000   1976.750000    0.000000  188.125000  ...   \n8      5.896552  1974.275862   1982.155172  128.603448  486.068966  ...   \n9      6.100000  1975.450000   1983.050000   52.550000  720.900000  ...   \n10     4.923077  1967.173077   1970.269231  111.000000  406.346154  ...   \n11     5.045977  1999.011494   1999.344828  113.441860  607.022989  ...   \n12     5.222222  1987.269841   1988.587302  169.015873  268.698413  ...   \n13     5.800000  1981.200000   1984.500000   24.200000  436.800000  ...   \n14     5.800000  1928.233333   1971.633333   15.666667  454.000000  ...   \n\n    WoodDeckSF  OpenPorchSF  EnclosedPorch  3SsnPorch  ScreenPorch   PoolArea  \\\n0    98.014925    42.811567      12.345149   5.246269    15.632463   1.208955   \n1    33.927536    27.101449      61.115942   0.000000     4.144928   0.000000   \n2    67.000000     7.000000      45.750000   0.000000     0.000000   0.000000   \n3     4.000000     9.333333      82.416667   0.000000     0.000000   0.000000   \n4    65.861111    26.583333      50.319444   4.194444    21.673611   0.000000   \n5   131.638796    80.488294       8.755853   3.394649    16.933110   5.197324   \n6    55.233333    36.400000      76.833333   0.000000    15.650000   0.000000   \n7    52.812500   131.187500     107.312500   0.000000    33.500000  32.000000   \n8   127.258621    30.827586      17.396552   3.896552    16.965517  22.655172   \n9    95.900000    22.100000      30.450000   0.000000     9.600000   0.000000   \n10   39.961538    13.211538       2.788462   0.000000     0.000000   0.000000   \n11  124.873563    52.666667       7.620690   3.689655    24.356322   0.000000   \n12   71.412698    36.539683       0.000000   0.000000     0.000000   0.000000   \n13   30.400000    22.500000       0.000000   0.000000     0.000000   0.000000   \n14   78.566667    32.133333      47.666667   0.000000    12.333333   0.000000   \n\n       MiscVal    MoSold       YrSold      SalePrice  \n0    53.514925  6.244403  2007.875000  185224.811567  \n1    35.942029  5.898551  2007.768116   95829.724638  \n2   150.000000  7.750000  2008.500000  156125.000000  \n3     0.000000  6.333333  2007.416667  108591.666667  \n4    59.375000  6.236111  2007.840278  143302.972222  \n5    18.327759  6.478261  2007.729097  239948.501672  \n6    41.666667  6.950000  2007.816667  166772.416667  \n7     0.000000  6.375000  2007.500000  192437.500000  \n8    20.689655  6.810345  2007.810345  169736.551724  \n9    20.000000  5.550000  2008.150000  147810.000000  \n10  180.769231  6.846154  2007.807692  133541.076923  \n11    0.000000  6.517241  2007.816092  200779.080460  \n12    0.000000  5.634921  2007.809524  138647.380952  \n13    0.000000  6.800000  2007.800000  102300.000000  \n14  140.000000  5.433333  2007.666667  129613.333333  \n\n[15 rows x 38 columns]",
      "text/html": "<div>\n<style scoped>\n    .dataframe tbody tr th:only-of-type {\n        vertical-align: middle;\n    }\n\n    .dataframe tbody tr th {\n        vertical-align: top;\n    }\n\n    .dataframe thead th {\n        text-align: right;\n    }\n</style>\n<table border=\"1\" class=\"dataframe\">\n  <thead>\n    <tr style=\"text-align: right;\">\n      <th></th>\n      <th>MSSubClass</th>\n      <th>Id</th>\n      <th>LotFrontage</th>\n      <th>LotArea</th>\n      <th>OverallQual</th>\n      <th>OverallCond</th>\n      <th>YearBuilt</th>\n      <th>YearRemodAdd</th>\n      <th>MasVnrArea</th>\n      <th>BsmtFinSF1</th>\n      <th>...</th>\n      <th>WoodDeckSF</th>\n      <th>OpenPorchSF</th>\n      <th>EnclosedPorch</th>\n      <th>3SsnPorch</th>\n      <th>ScreenPorch</th>\n      <th>PoolArea</th>\n      <th>MiscVal</th>\n      <th>MoSold</th>\n      <th>YrSold</th>\n      <th>SalePrice</th>\n    </tr>\n  </thead>\n  <tbody>\n    <tr>\n      <th>0</th>\n      <td>20</td>\n      <td>723.998134</td>\n      <td>77.464531</td>\n      <td>11755.509328</td>\n      <td>6.033582</td>\n      <td>5.550373</td>\n      <td>1977.960821</td>\n      <td>1985.878731</td>\n      <td>104.355263</td>\n      <td>562.986940</td>\n      <td>...</td>\n      <td>98.014925</td>\n      <td>42.811567</td>\n      <td>12.345149</td>\n      <td>5.246269</td>\n      <td>15.632463</td>\n      <td>1.208955</td>\n      <td>53.514925</td>\n      <td>6.244403</td>\n      <td>2007.875000</td>\n      <td>185224.811567</td>\n    </tr>\n    <tr>\n      <th>1</th>\n      <td>30</td>\n      <td>747.826087</td>\n      <td>60.349206</td>\n      <td>7888.492754</td>\n      <td>4.507246</td>\n      <td>5.753623</td>\n      <td>1926.637681</td>\n      <td>1968.869565</td>\n      <td>12.130435</td>\n      <td>187.826087</td>\n      <td>...</td>\n      <td>33.927536</td>\n      <td>27.101449</td>\n      <td>61.115942</td>\n      <td>0.000000</td>\n      <td>4.144928</td>\n      <td>0.000000</td>\n      <td>35.942029</td>\n      <td>5.898551</td>\n      <td>2007.768116</td>\n      <td>95829.724638</td>\n    </tr>\n    <tr>\n      <th>2</th>\n      <td>40</td>\n      <td>725.000000</td>\n      <td>50.000000</td>\n      <td>12559.750000</td>\n      <td>5.750000</td>\n      <td>6.500000</td>\n      <td>1946.000000</td>\n      <td>1973.250000</td>\n      <td>0.000000</td>\n      <td>500.750000</td>\n      <td>...</td>\n      <td>67.000000</td>\n      <td>7.000000</td>\n      <td>45.750000</td>\n      <td>0.000000</td>\n      <td>0.000000</td>\n      <td>0.000000</td>\n      <td>150.000000</td>\n      <td>7.750000</td>\n      <td>2008.500000</td>\n      <td>156125.000000</td>\n    </tr>\n    <tr>\n      <th>3</th>\n      <td>45</td>\n      <td>422.000000</td>\n      <td>55.000000</td>\n      <td>6949.000000</td>\n      <td>5.500000</td>\n      <td>6.166667</td>\n      <td>1934.583333</td>\n      <td>1964.000000</td>\n      <td>0.000000</td>\n      <td>103.000000</td>\n      <td>...</td>\n      <td>4.000000</td>\n      <td>9.333333</td>\n      <td>82.416667</td>\n      <td>0.000000</td>\n      <td>0.000000</td>\n      <td>0.000000</td>\n      <td>0.000000</td>\n      <td>6.333333</td>\n      <td>2007.416667</td>\n      <td>108591.666667</td>\n    </tr>\n    <tr>\n      <th>4</th>\n      <td>50</td>\n      <td>751.194444</td>\n      <td>64.000000</td>\n      <td>10479.145833</td>\n      <td>5.402778</td>\n      <td>6.013889</td>\n      <td>1935.833333</td>\n      <td>1969.854167</td>\n      <td>34.409722</td>\n      <td>226.666667</td>\n      <td>...</td>\n      <td>65.861111</td>\n      <td>26.583333</td>\n      <td>50.319444</td>\n      <td>4.194444</td>\n      <td>21.673611</td>\n      <td>0.000000</td>\n      <td>59.375000</td>\n      <td>6.236111</td>\n      <td>2007.840278</td>\n      <td>143302.972222</td>\n    </tr>\n    <tr>\n      <th>5</th>\n      <td>60</td>\n      <td>708.882943</td>\n      <td>81.056522</td>\n      <td>12058.076923</td>\n      <td>7.060201</td>\n      <td>5.297659</td>\n      <td>1994.494983</td>\n      <td>1996.331104</td>\n      <td>181.148649</td>\n      <td>440.525084</td>\n      <td>...</td>\n      <td>131.638796</td>\n      <td>80.488294</td>\n      <td>8.755853</td>\n      <td>3.394649</td>\n      <td>16.933110</td>\n      <td>5.197324</td>\n      <td>18.327759</td>\n      <td>6.478261</td>\n      <td>2007.729097</td>\n      <td>239948.501672</td>\n    </tr>\n    <tr>\n      <th>6</th>\n      <td>70</td>\n      <td>771.466667</td>\n      <td>65.654545</td>\n      <td>10120.166667</td>\n      <td>6.116667</td>\n      <td>6.633333</td>\n      <td>1918.833333</td>\n      <td>1977.866667</td>\n      <td>3.733333</td>\n      <td>182.000000</td>\n      <td>...</td>\n      <td>55.233333</td>\n      <td>36.400000</td>\n      <td>76.833333</td>\n      <td>0.000000</td>\n      <td>15.650000</td>\n      <td>0.000000</td>\n      <td>41.666667</td>\n      <td>6.950000</td>\n      <td>2007.816667</td>\n      <td>166772.416667</td>\n    </tr>\n    <tr>\n      <th>7</th>\n      <td>75</td>\n      <td>604.875000</td>\n      <td>77.533333</td>\n      <td>11631.750000</td>\n      <td>6.625000</td>\n      <td>6.250000</td>\n      <td>1912.625000</td>\n      <td>1976.750000</td>\n      <td>0.000000</td>\n      <td>188.125000</td>\n      <td>...</td>\n      <td>52.812500</td>\n      <td>131.187500</td>\n      <td>107.312500</td>\n      <td>0.000000</td>\n      <td>33.500000</td>\n      <td>32.000000</td>\n      <td>0.000000</td>\n      <td>6.375000</td>\n      <td>2007.500000</td>\n      <td>192437.500000</td>\n    </tr>\n    <tr>\n      <th>8</th>\n      <td>80</td>\n      <td>792.155172</td>\n      <td>80.026316</td>\n      <td>10895.482759</td>\n      <td>5.965517</td>\n      <td>5.896552</td>\n      <td>1974.275862</td>\n      <td>1982.155172</td>\n      <td>128.603448</td>\n      <td>486.068966</td>\n      <td>...</td>\n      <td>127.258621</td>\n      <td>30.827586</td>\n      <td>17.396552</td>\n      <td>3.896552</td>\n      <td>16.965517</td>\n      <td>22.655172</td>\n      <td>20.689655</td>\n      <td>6.810345</td>\n      <td>2007.810345</td>\n      <td>169736.551724</td>\n    </tr>\n    <tr>\n      <th>9</th>\n      <td>85</td>\n      <td>828.200000</td>\n      <td>71.571429</td>\n      <td>9317.450000</td>\n      <td>5.450000</td>\n      <td>6.100000</td>\n      <td>1975.450000</td>\n      <td>1983.050000</td>\n      <td>52.550000</td>\n      <td>720.900000</td>\n      <td>...</td>\n      <td>95.900000</td>\n      <td>22.100000</td>\n      <td>30.450000</td>\n      <td>0.000000</td>\n      <td>9.600000</td>\n      <td>0.000000</td>\n      <td>20.000000</td>\n      <td>5.550000</td>\n      <td>2008.150000</td>\n      <td>147810.000000</td>\n    </tr>\n    <tr>\n      <th>10</th>\n      <td>90</td>\n      <td>792.288462</td>\n      <td>71.595745</td>\n      <td>9720.057692</td>\n      <td>4.961538</td>\n      <td>4.923077</td>\n      <td>1967.173077</td>\n      <td>1970.269231</td>\n      <td>111.000000</td>\n      <td>406.346154</td>\n      <td>...</td>\n      <td>39.961538</td>\n      <td>13.211538</td>\n      <td>2.788462</td>\n      <td>0.000000</td>\n      <td>0.000000</td>\n      <td>0.000000</td>\n      <td>180.769231</td>\n      <td>6.846154</td>\n      <td>2007.807692</td>\n      <td>133541.076923</td>\n    </tr>\n    <tr>\n      <th>11</th>\n      <td>120</td>\n      <td>739.505747</td>\n      <td>45.671642</td>\n      <td>5383.954023</td>\n      <td>7.057471</td>\n      <td>5.045977</td>\n      <td>1999.011494</td>\n      <td>1999.344828</td>\n      <td>113.441860</td>\n      <td>607.022989</td>\n      <td>...</td>\n      <td>124.873563</td>\n      <td>52.666667</td>\n      <td>7.620690</td>\n      <td>3.689655</td>\n      <td>24.356322</td>\n      <td>0.000000</td>\n      <td>0.000000</td>\n      <td>6.517241</td>\n      <td>2007.816092</td>\n      <td>200779.080460</td>\n    </tr>\n    <tr>\n      <th>12</th>\n      <td>160</td>\n      <td>745.730159</td>\n      <td>27.945455</td>\n      <td>2699.333333</td>\n      <td>6.142857</td>\n      <td>5.222222</td>\n      <td>1987.269841</td>\n      <td>1988.587302</td>\n      <td>169.015873</td>\n      <td>268.698413</td>\n      <td>...</td>\n      <td>71.412698</td>\n      <td>36.539683</td>\n      <td>0.000000</td>\n      <td>0.000000</td>\n      <td>0.000000</td>\n      <td>0.000000</td>\n      <td>0.000000</td>\n      <td>5.634921</td>\n      <td>2007.809524</td>\n      <td>138647.380952</td>\n    </tr>\n    <tr>\n      <th>13</th>\n      <td>180</td>\n      <td>798.000000</td>\n      <td>25.200000</td>\n      <td>2247.400000</td>\n      <td>4.600000</td>\n      <td>5.800000</td>\n      <td>1981.200000</td>\n      <td>1984.500000</td>\n      <td>24.200000</td>\n      <td>436.800000</td>\n      <td>...</td>\n      <td>30.400000</td>\n      <td>22.500000</td>\n      <td>0.000000</td>\n      <td>0.000000</td>\n      <td>0.000000</td>\n      <td>0.000000</td>\n      <td>0.000000</td>\n      <td>6.800000</td>\n      <td>2007.800000</td>\n      <td>102300.000000</td>\n    </tr>\n    <tr>\n      <th>14</th>\n      <td>190</td>\n      <td>660.100000</td>\n      <td>66.666667</td>\n      <td>16111.233333</td>\n      <td>4.966667</td>\n      <td>5.800000</td>\n      <td>1928.233333</td>\n      <td>1971.633333</td>\n      <td>15.666667</td>\n      <td>454.000000</td>\n      <td>...</td>\n      <td>78.566667</td>\n      <td>32.133333</td>\n      <td>47.666667</td>\n      <td>0.000000</td>\n      <td>12.333333</td>\n      <td>0.000000</td>\n      <td>140.000000</td>\n      <td>5.433333</td>\n      <td>2007.666667</td>\n      <td>129613.333333</td>\n    </tr>\n  </tbody>\n</table>\n<p>15 rows × 38 columns</p>\n</div>"
     },
     "execution_count": 87,
     "metadata": {},
     "output_type": "execute_result"
    }
   ],
   "source": [
    "df.groupby('MSSubClass').mean().reset_index()\n",
    "    # rename(columns={'LotConfig':'Lotcount'}).\\\n"
   ],
   "metadata": {
    "collapsed": false,
    "pycharm": {
     "name": "#%%\n"
    }
   }
  },
  {
   "cell_type": "code",
   "execution_count": 24,
   "outputs": [
    {
     "data": {
      "text/plain": "pandas.core.frame.DataFrame"
     },
     "execution_count": 24,
     "metadata": {},
     "output_type": "execute_result"
    }
   ],
   "source": [
    "type(x)"
   ],
   "metadata": {
    "collapsed": false,
    "pycharm": {
     "name": "#%%\n"
    }
   }
  },
  {
   "cell_type": "code",
   "execution_count": 25,
   "outputs": [
    {
     "data": {
      "text/plain": "FrozenList(['MSSubClass', 'Alley'])"
     },
     "execution_count": 25,
     "metadata": {},
     "output_type": "execute_result"
    }
   ],
   "source": [
    "x.index.names"
   ],
   "metadata": {
    "collapsed": false,
    "pycharm": {
     "name": "#%%\n"
    }
   }
  },
  {
   "cell_type": "code",
   "execution_count": 6,
   "outputs": [
    {
     "data": {
      "text/plain": "pandas.core.series.Series"
     },
     "execution_count": 6,
     "metadata": {},
     "output_type": "execute_result"
    }
   ],
   "source": [
    "type(df.groupby('MSSubClass')['Alley'].value_counts())"
   ],
   "metadata": {
    "collapsed": false,
    "pycharm": {
     "name": "#%%\n"
    }
   }
  },
  {
   "cell_type": "code",
   "execution_count": 10,
   "outputs": [
    {
     "data": {
      "text/plain": "array([ 5, 11,  1,  1,  1, 18,  6,  1,  1, 11,  5,  2,  1,  2,  4, 15,  4,\n        2], dtype=int64)"
     },
     "execution_count": 10,
     "metadata": {},
     "output_type": "execute_result"
    }
   ],
   "source": [
    "x.values"
   ],
   "metadata": {
    "collapsed": false,
    "pycharm": {
     "name": "#%%\n"
    }
   }
  }
 ],
 "metadata": {
  "kernelspec": {
   "display_name": "Python 3",
   "language": "python",
   "name": "python3"
  },
  "language_info": {
   "codemirror_mode": {
    "name": "ipython",
    "version": 2
   },
   "file_extension": ".py",
   "mimetype": "text/x-python",
   "name": "python",
   "nbconvert_exporter": "python",
   "pygments_lexer": "ipython2",
   "version": "2.7.6"
  }
 },
 "nbformat": 4,
 "nbformat_minor": 0
}